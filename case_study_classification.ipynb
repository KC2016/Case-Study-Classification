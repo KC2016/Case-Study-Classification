{
 "cells": [
  {
   "cell_type": "markdown",
   "id": "involved-scanner",
   "metadata": {},
   "source": [
    "## Case study classification project"
   ]
  },
  {
   "cell_type": "code",
   "execution_count": 41,
   "id": "legislative-glasgow",
   "metadata": {},
   "outputs": [],
   "source": [
    "# import libraries\n",
    "import pandas as pd \n",
    "import seaborn as sns \n",
    "import matplotlib.pyplot as plt\n",
    "import numpy as np \n",
    "from scipy import stats"
   ]
  },
  {
   "cell_type": "code",
   "execution_count": 1,
   "id": "documented-composite",
   "metadata": {},
   "outputs": [
    {
     "name": "stdout",
     "output_type": "stream",
     "text": [
      "Collecting package metadata (current_repodata.json): done\n",
      "Solving environment: done\n",
      "\n",
      "\n",
      "==> WARNING: A newer version of conda exists. <==\n",
      "  current version: 4.10.0\n",
      "  latest version: 4.10.1\n",
      "\n",
      "Please update conda by running\n",
      "\n",
      "    $ conda update -n base -c defaults conda\n",
      "\n",
      "\n",
      "\n",
      "# All requested packages already installed.\n",
      "\n",
      "\n",
      "Note: you may need to restart the kernel to use updated packages.\n"
     ]
    }
   ],
   "source": [
    "conda install -c conda-forge jupyter_contrib_nbextensions"
   ]
  },
  {
   "cell_type": "code",
   "execution_count": 43,
   "id": "parallel-construction",
   "metadata": {},
   "outputs": [],
   "source": [
    "# df = pd.read_csv('creditcardmarketing.csv')"
   ]
  },
  {
   "cell_type": "code",
   "execution_count": 44,
   "id": "impressive-pottery",
   "metadata": {},
   "outputs": [],
   "source": [
    "df_original = pd.read_excel(r'data/creditcardmarketing.xlsx')"
   ]
  },
  {
   "cell_type": "code",
   "execution_count": 45,
   "id": "extreme-deputy",
   "metadata": {},
   "outputs": [],
   "source": [
    "# save as a csv file to use in the SQL task\n",
    "import csv\n",
    "df_original.to_csv(r'new_creditcardmarketing_original.csv', index = False)"
   ]
  },
  {
   "cell_type": "code",
   "execution_count": 46,
   "id": "tutorial-element",
   "metadata": {},
   "outputs": [],
   "source": [
    "\n",
    "# create a copy of the dataaet\n",
    "df = df_original"
   ]
  },
  {
   "cell_type": "markdown",
   "id": "rocky-marijuana",
   "metadata": {},
   "source": [
    "###  EDA - exploratory data analysis - get to know the data"
   ]
  },
  {
   "cell_type": "code",
   "execution_count": 47,
   "id": "serial-catering",
   "metadata": {},
   "outputs": [
    {
     "name": "stdout",
     "output_type": "stream",
     "text": [
      "<class 'pandas.core.frame.DataFrame'>\n",
      "RangeIndex: 18000 entries, 0 to 17999\n",
      "Data columns (total 17 columns):\n",
      " #   Column                Non-Null Count  Dtype  \n",
      "---  ------                --------------  -----  \n",
      " 0   Customer Number       18000 non-null  int64  \n",
      " 1   Offer Accepted        18000 non-null  object \n",
      " 2   Reward                18000 non-null  object \n",
      " 3   Mailer Type           18000 non-null  object \n",
      " 4   Income Level          18000 non-null  object \n",
      " 5   # Bank Accounts Open  18000 non-null  int64  \n",
      " 6   Overdraft Protection  18000 non-null  object \n",
      " 7   Credit Rating         18000 non-null  object \n",
      " 8   # Credit Cards Held   18000 non-null  int64  \n",
      " 9   # Homes Owned         18000 non-null  int64  \n",
      " 10  Household Size        18000 non-null  int64  \n",
      " 11  Own Your Home         18000 non-null  object \n",
      " 12  Average Balance       17976 non-null  float64\n",
      " 13  Q1 Balance            17976 non-null  float64\n",
      " 14  Q2 Balance            17976 non-null  float64\n",
      " 15  Q3 Balance            17976 non-null  float64\n",
      " 16  Q4 Balance            17976 non-null  float64\n",
      "dtypes: float64(5), int64(5), object(7)\n",
      "memory usage: 2.3+ MB\n"
     ]
    }
   ],
   "source": [
    "# check information about the dataset\n",
    "#df.dtypes\n",
    "df.info()"
   ]
  },
  {
   "cell_type": "code",
   "execution_count": 48,
   "id": "digital-virgin",
   "metadata": {},
   "outputs": [
    {
     "data": {
      "text/plain": [
       "(18000, 17)"
      ]
     },
     "execution_count": 48,
     "metadata": {},
     "output_type": "execute_result"
    }
   ],
   "source": [
    "# cheack shape\n",
    "df.shape"
   ]
  },
  {
   "cell_type": "code",
   "execution_count": 49,
   "id": "hired-state",
   "metadata": {},
   "outputs": [
    {
     "name": "stdout",
     "output_type": "stream",
     "text": [
      "Customer Number          0\n",
      "Offer Accepted           0\n",
      "Reward                   0\n",
      "Mailer Type              0\n",
      "Income Level             0\n",
      "# Bank Accounts Open     0\n",
      "Overdraft Protection     0\n",
      "Credit Rating            0\n",
      "# Credit Cards Held      0\n",
      "# Homes Owned            0\n",
      "Household Size           0\n",
      "Own Your Home            0\n",
      "Average Balance         24\n",
      "Q1 Balance              24\n",
      "Q2 Balance              24\n",
      "Q3 Balance              24\n",
      "Q4 Balance              24\n",
      "dtype: int64\n"
     ]
    }
   ],
   "source": [
    "# print the sum of null values \n",
    "print(df.isnull().sum())"
   ]
  },
  {
   "cell_type": "code",
   "execution_count": 50,
   "id": "artistic-joyce",
   "metadata": {},
   "outputs": [
    {
     "data": {
      "text/html": [
       "<div>\n",
       "<style scoped>\n",
       "    .dataframe tbody tr th:only-of-type {\n",
       "        vertical-align: middle;\n",
       "    }\n",
       "\n",
       "    .dataframe tbody tr th {\n",
       "        vertical-align: top;\n",
       "    }\n",
       "\n",
       "    .dataframe thead th {\n",
       "        text-align: right;\n",
       "    }\n",
       "</style>\n",
       "<table border=\"1\" class=\"dataframe\">\n",
       "  <thead>\n",
       "    <tr style=\"text-align: right;\">\n",
       "      <th></th>\n",
       "      <th>customer_number</th>\n",
       "      <th>offer_accepted</th>\n",
       "      <th>reward</th>\n",
       "      <th>mailer_type</th>\n",
       "      <th>income_level</th>\n",
       "      <th>bank_accounts_open</th>\n",
       "      <th>overdraft_protection</th>\n",
       "      <th>credit_rating</th>\n",
       "      <th>credit_cards_held</th>\n",
       "      <th>homes_owned</th>\n",
       "      <th>household_size</th>\n",
       "      <th>own_your_home</th>\n",
       "      <th>average_balance</th>\n",
       "      <th>q1_balance</th>\n",
       "      <th>q2_balance</th>\n",
       "      <th>q3_balance</th>\n",
       "      <th>q4_balance</th>\n",
       "    </tr>\n",
       "  </thead>\n",
       "  <tbody>\n",
       "    <tr>\n",
       "      <th>0</th>\n",
       "      <td>1</td>\n",
       "      <td>No</td>\n",
       "      <td>Air Miles</td>\n",
       "      <td>Letter</td>\n",
       "      <td>High</td>\n",
       "      <td>1</td>\n",
       "      <td>No</td>\n",
       "      <td>High</td>\n",
       "      <td>2</td>\n",
       "      <td>1</td>\n",
       "      <td>4</td>\n",
       "      <td>No</td>\n",
       "      <td>1160.75</td>\n",
       "      <td>1669.0</td>\n",
       "      <td>877.0</td>\n",
       "      <td>1095.0</td>\n",
       "      <td>1002.0</td>\n",
       "    </tr>\n",
       "    <tr>\n",
       "      <th>1</th>\n",
       "      <td>2</td>\n",
       "      <td>No</td>\n",
       "      <td>Air Miles</td>\n",
       "      <td>Letter</td>\n",
       "      <td>Medium</td>\n",
       "      <td>1</td>\n",
       "      <td>No</td>\n",
       "      <td>Medium</td>\n",
       "      <td>2</td>\n",
       "      <td>2</td>\n",
       "      <td>5</td>\n",
       "      <td>Yes</td>\n",
       "      <td>147.25</td>\n",
       "      <td>39.0</td>\n",
       "      <td>106.0</td>\n",
       "      <td>78.0</td>\n",
       "      <td>366.0</td>\n",
       "    </tr>\n",
       "    <tr>\n",
       "      <th>2</th>\n",
       "      <td>3</td>\n",
       "      <td>No</td>\n",
       "      <td>Air Miles</td>\n",
       "      <td>Postcard</td>\n",
       "      <td>High</td>\n",
       "      <td>2</td>\n",
       "      <td>No</td>\n",
       "      <td>Medium</td>\n",
       "      <td>2</td>\n",
       "      <td>1</td>\n",
       "      <td>2</td>\n",
       "      <td>Yes</td>\n",
       "      <td>276.50</td>\n",
       "      <td>367.0</td>\n",
       "      <td>352.0</td>\n",
       "      <td>145.0</td>\n",
       "      <td>242.0</td>\n",
       "    </tr>\n",
       "    <tr>\n",
       "      <th>3</th>\n",
       "      <td>4</td>\n",
       "      <td>No</td>\n",
       "      <td>Air Miles</td>\n",
       "      <td>Letter</td>\n",
       "      <td>Medium</td>\n",
       "      <td>2</td>\n",
       "      <td>No</td>\n",
       "      <td>High</td>\n",
       "      <td>1</td>\n",
       "      <td>1</td>\n",
       "      <td>4</td>\n",
       "      <td>No</td>\n",
       "      <td>1219.00</td>\n",
       "      <td>1578.0</td>\n",
       "      <td>1760.0</td>\n",
       "      <td>1119.0</td>\n",
       "      <td>419.0</td>\n",
       "    </tr>\n",
       "    <tr>\n",
       "      <th>4</th>\n",
       "      <td>5</td>\n",
       "      <td>No</td>\n",
       "      <td>Air Miles</td>\n",
       "      <td>Letter</td>\n",
       "      <td>Medium</td>\n",
       "      <td>1</td>\n",
       "      <td>No</td>\n",
       "      <td>Medium</td>\n",
       "      <td>2</td>\n",
       "      <td>1</td>\n",
       "      <td>6</td>\n",
       "      <td>Yes</td>\n",
       "      <td>1211.00</td>\n",
       "      <td>2140.0</td>\n",
       "      <td>1357.0</td>\n",
       "      <td>982.0</td>\n",
       "      <td>365.0</td>\n",
       "    </tr>\n",
       "  </tbody>\n",
       "</table>\n",
       "</div>"
      ],
      "text/plain": [
       "   customer_number offer_accepted     reward mailer_type income_level  \\\n",
       "0                1             No  Air Miles      Letter         High   \n",
       "1                2             No  Air Miles      Letter       Medium   \n",
       "2                3             No  Air Miles    Postcard         High   \n",
       "3                4             No  Air Miles      Letter       Medium   \n",
       "4                5             No  Air Miles      Letter       Medium   \n",
       "\n",
       "   bank_accounts_open overdraft_protection credit_rating  credit_cards_held  \\\n",
       "0                   1                   No          High                  2   \n",
       "1                   1                   No        Medium                  2   \n",
       "2                   2                   No        Medium                  2   \n",
       "3                   2                   No          High                  1   \n",
       "4                   1                   No        Medium                  2   \n",
       "\n",
       "   homes_owned  household_size own_your_home  average_balance  q1_balance  \\\n",
       "0            1               4            No          1160.75      1669.0   \n",
       "1            2               5           Yes           147.25        39.0   \n",
       "2            1               2           Yes           276.50       367.0   \n",
       "3            1               4            No          1219.00      1578.0   \n",
       "4            1               6           Yes          1211.00      2140.0   \n",
       "\n",
       "   q2_balance  q3_balance  q4_balance  \n",
       "0       877.0      1095.0      1002.0  \n",
       "1       106.0        78.0       366.0  \n",
       "2       352.0       145.0       242.0  \n",
       "3      1760.0      1119.0       419.0  \n",
       "4      1357.0       982.0       365.0  "
      ]
     },
     "execution_count": 50,
     "metadata": {},
     "output_type": "execute_result"
    }
   ],
   "source": [
    "# standize the readers: replace spaces by _, put in lowercase, remove #\n",
    "df.columns = df.columns.str.replace(' ', '_')\n",
    "df.columns= df.columns.str.lower()\n",
    "df.columns= df.columns.str.replace('#_', '')\n",
    "df.head()"
   ]
  },
  {
   "cell_type": "code",
   "execution_count": 51,
   "id": "portable-tournament",
   "metadata": {},
   "outputs": [
    {
     "data": {
      "text/plain": [
       "0.0013333333333333333"
      ]
     },
     "execution_count": 51,
     "metadata": {},
     "output_type": "execute_result"
    }
   ],
   "source": [
    "# find the percentage of missing values\n",
    "pct_missing=24/18000\n",
    "pct_missing"
   ]
  },
  {
   "cell_type": "markdown",
   "id": "complicated-hungarian",
   "metadata": {},
   "source": [
    "We found few missing values (less than 20%). so we are not droping them.<br/>\n",
    "Since the balances columns are float, we will fill them with the mean"
   ]
  },
  {
   "cell_type": "code",
   "execution_count": 52,
   "id": "funny-strengthening",
   "metadata": {},
   "outputs": [],
   "source": [
    "# fill nulls with the means\n",
    "\n",
    "col_miss_values= ['average_balance', 'q1_balance', 'q2_balance', 'q3_balance', 'q4_balance']\n",
    "\n",
    "mean_average_balance = df['average_balance'].mean\n",
    "df['average_balance'] = df['average_balance'].fillna(mean_average_balance)\n",
    "\n",
    "mean_average_balance = df['q1_balance'].mean\n",
    "df['q1_balance'] = df['q1_balance'].fillna(mean_average_balance)\n",
    "\n",
    "mean_q2_balance = df['q2_balance'].mean\n",
    "df['q2_balance'] = df['q2_balance'].fillna(mean_q2_balance)\n",
    "\n",
    "mean_q3_balance = df['q3_balance'].mean\n",
    "df['q3_balance'] = df['q3_balance'].fillna(mean_q3_balance)\n",
    "\n",
    "mean_q4_balance = df['q4_balance'].mean\n",
    "df['q4_balance'] = df['q4_balance'].fillna(mean_q4_balance)\n",
    "                                           \n"
   ]
  },
  {
   "cell_type": "code",
   "execution_count": 53,
   "id": "artificial-compression",
   "metadata": {},
   "outputs": [
    {
     "data": {
      "text/html": [
       "<div>\n",
       "<style scoped>\n",
       "    .dataframe tbody tr th:only-of-type {\n",
       "        vertical-align: middle;\n",
       "    }\n",
       "\n",
       "    .dataframe tbody tr th {\n",
       "        vertical-align: top;\n",
       "    }\n",
       "\n",
       "    .dataframe thead th {\n",
       "        text-align: right;\n",
       "    }\n",
       "</style>\n",
       "<table border=\"1\" class=\"dataframe\">\n",
       "  <thead>\n",
       "    <tr style=\"text-align: right;\">\n",
       "      <th></th>\n",
       "      <th>customer_number</th>\n",
       "      <th>offer_accepted</th>\n",
       "      <th>reward</th>\n",
       "      <th>mailer_type</th>\n",
       "      <th>income_level</th>\n",
       "      <th>bank_accounts_open</th>\n",
       "      <th>overdraft_protection</th>\n",
       "      <th>credit_rating</th>\n",
       "      <th>credit_cards_held</th>\n",
       "      <th>homes_owned</th>\n",
       "      <th>household_size</th>\n",
       "      <th>own_your_home</th>\n",
       "      <th>average_balance</th>\n",
       "      <th>q1_balance</th>\n",
       "      <th>q2_balance</th>\n",
       "      <th>q3_balance</th>\n",
       "      <th>q4_balance</th>\n",
       "    </tr>\n",
       "  </thead>\n",
       "  <tbody>\n",
       "    <tr>\n",
       "      <th>0</th>\n",
       "      <td>1</td>\n",
       "      <td>No</td>\n",
       "      <td>Air Miles</td>\n",
       "      <td>Letter</td>\n",
       "      <td>High</td>\n",
       "      <td>1</td>\n",
       "      <td>No</td>\n",
       "      <td>High</td>\n",
       "      <td>2</td>\n",
       "      <td>1</td>\n",
       "      <td>4</td>\n",
       "      <td>No</td>\n",
       "      <td>1160.75</td>\n",
       "      <td>1669.0</td>\n",
       "      <td>877.0</td>\n",
       "      <td>1095.0</td>\n",
       "      <td>1002.0</td>\n",
       "    </tr>\n",
       "    <tr>\n",
       "      <th>1</th>\n",
       "      <td>2</td>\n",
       "      <td>No</td>\n",
       "      <td>Air Miles</td>\n",
       "      <td>Letter</td>\n",
       "      <td>Medium</td>\n",
       "      <td>1</td>\n",
       "      <td>No</td>\n",
       "      <td>Medium</td>\n",
       "      <td>2</td>\n",
       "      <td>2</td>\n",
       "      <td>5</td>\n",
       "      <td>Yes</td>\n",
       "      <td>147.25</td>\n",
       "      <td>39.0</td>\n",
       "      <td>106.0</td>\n",
       "      <td>78.0</td>\n",
       "      <td>366.0</td>\n",
       "    </tr>\n",
       "    <tr>\n",
       "      <th>2</th>\n",
       "      <td>3</td>\n",
       "      <td>No</td>\n",
       "      <td>Air Miles</td>\n",
       "      <td>Postcard</td>\n",
       "      <td>High</td>\n",
       "      <td>2</td>\n",
       "      <td>No</td>\n",
       "      <td>Medium</td>\n",
       "      <td>2</td>\n",
       "      <td>1</td>\n",
       "      <td>2</td>\n",
       "      <td>Yes</td>\n",
       "      <td>276.5</td>\n",
       "      <td>367.0</td>\n",
       "      <td>352.0</td>\n",
       "      <td>145.0</td>\n",
       "      <td>242.0</td>\n",
       "    </tr>\n",
       "    <tr>\n",
       "      <th>3</th>\n",
       "      <td>4</td>\n",
       "      <td>No</td>\n",
       "      <td>Air Miles</td>\n",
       "      <td>Letter</td>\n",
       "      <td>Medium</td>\n",
       "      <td>2</td>\n",
       "      <td>No</td>\n",
       "      <td>High</td>\n",
       "      <td>1</td>\n",
       "      <td>1</td>\n",
       "      <td>4</td>\n",
       "      <td>No</td>\n",
       "      <td>1219.0</td>\n",
       "      <td>1578.0</td>\n",
       "      <td>1760.0</td>\n",
       "      <td>1119.0</td>\n",
       "      <td>419.0</td>\n",
       "    </tr>\n",
       "    <tr>\n",
       "      <th>4</th>\n",
       "      <td>5</td>\n",
       "      <td>No</td>\n",
       "      <td>Air Miles</td>\n",
       "      <td>Letter</td>\n",
       "      <td>Medium</td>\n",
       "      <td>1</td>\n",
       "      <td>No</td>\n",
       "      <td>Medium</td>\n",
       "      <td>2</td>\n",
       "      <td>1</td>\n",
       "      <td>6</td>\n",
       "      <td>Yes</td>\n",
       "      <td>1211.0</td>\n",
       "      <td>2140.0</td>\n",
       "      <td>1357.0</td>\n",
       "      <td>982.0</td>\n",
       "      <td>365.0</td>\n",
       "    </tr>\n",
       "  </tbody>\n",
       "</table>\n",
       "</div>"
      ],
      "text/plain": [
       "   customer_number offer_accepted     reward mailer_type income_level  \\\n",
       "0                1             No  Air Miles      Letter         High   \n",
       "1                2             No  Air Miles      Letter       Medium   \n",
       "2                3             No  Air Miles    Postcard         High   \n",
       "3                4             No  Air Miles      Letter       Medium   \n",
       "4                5             No  Air Miles      Letter       Medium   \n",
       "\n",
       "   bank_accounts_open overdraft_protection credit_rating  credit_cards_held  \\\n",
       "0                   1                   No          High                  2   \n",
       "1                   1                   No        Medium                  2   \n",
       "2                   2                   No        Medium                  2   \n",
       "3                   2                   No          High                  1   \n",
       "4                   1                   No        Medium                  2   \n",
       "\n",
       "   homes_owned  household_size own_your_home average_balance q1_balance  \\\n",
       "0            1               4            No         1160.75     1669.0   \n",
       "1            2               5           Yes          147.25       39.0   \n",
       "2            1               2           Yes           276.5      367.0   \n",
       "3            1               4            No          1219.0     1578.0   \n",
       "4            1               6           Yes          1211.0     2140.0   \n",
       "\n",
       "  q2_balance q3_balance q4_balance  \n",
       "0      877.0     1095.0     1002.0  \n",
       "1      106.0       78.0      366.0  \n",
       "2      352.0      145.0      242.0  \n",
       "3     1760.0     1119.0      419.0  \n",
       "4     1357.0      982.0      365.0  "
      ]
     },
     "execution_count": 53,
     "metadata": {},
     "output_type": "execute_result"
    }
   ],
   "source": [
    "df.head()"
   ]
  },
  {
   "cell_type": "code",
   "execution_count": null,
   "id": "fresh-yesterday",
   "metadata": {},
   "outputs": [],
   "source": []
  },
  {
   "cell_type": "markdown",
   "id": "durable-struggle",
   "metadata": {},
   "source": [
    "### Get the sweet summary stats on each column to understand the distribution better"
   ]
  },
  {
   "cell_type": "code",
   "execution_count": 54,
   "id": "personalized-report",
   "metadata": {},
   "outputs": [
    {
     "data": {
      "text/html": [
       "<div>\n",
       "<style scoped>\n",
       "    .dataframe tbody tr th:only-of-type {\n",
       "        vertical-align: middle;\n",
       "    }\n",
       "\n",
       "    .dataframe tbody tr th {\n",
       "        vertical-align: top;\n",
       "    }\n",
       "\n",
       "    .dataframe thead th {\n",
       "        text-align: right;\n",
       "    }\n",
       "</style>\n",
       "<table border=\"1\" class=\"dataframe\">\n",
       "  <thead>\n",
       "    <tr style=\"text-align: right;\">\n",
       "      <th></th>\n",
       "      <th>customer_number</th>\n",
       "      <th>bank_accounts_open</th>\n",
       "      <th>credit_cards_held</th>\n",
       "      <th>homes_owned</th>\n",
       "      <th>household_size</th>\n",
       "    </tr>\n",
       "  </thead>\n",
       "  <tbody>\n",
       "    <tr>\n",
       "      <th>count</th>\n",
       "      <td>18000.000000</td>\n",
       "      <td>18000.000000</td>\n",
       "      <td>18000.000000</td>\n",
       "      <td>18000.000000</td>\n",
       "      <td>18000.000000</td>\n",
       "    </tr>\n",
       "    <tr>\n",
       "      <th>mean</th>\n",
       "      <td>9000.500000</td>\n",
       "      <td>1.255778</td>\n",
       "      <td>1.903500</td>\n",
       "      <td>1.203444</td>\n",
       "      <td>3.499056</td>\n",
       "    </tr>\n",
       "    <tr>\n",
       "      <th>std</th>\n",
       "      <td>5196.296758</td>\n",
       "      <td>0.472501</td>\n",
       "      <td>0.797009</td>\n",
       "      <td>0.427341</td>\n",
       "      <td>1.114182</td>\n",
       "    </tr>\n",
       "    <tr>\n",
       "      <th>min</th>\n",
       "      <td>1.000000</td>\n",
       "      <td>1.000000</td>\n",
       "      <td>1.000000</td>\n",
       "      <td>1.000000</td>\n",
       "      <td>1.000000</td>\n",
       "    </tr>\n",
       "    <tr>\n",
       "      <th>25%</th>\n",
       "      <td>4500.750000</td>\n",
       "      <td>1.000000</td>\n",
       "      <td>1.000000</td>\n",
       "      <td>1.000000</td>\n",
       "      <td>3.000000</td>\n",
       "    </tr>\n",
       "    <tr>\n",
       "      <th>50%</th>\n",
       "      <td>9000.500000</td>\n",
       "      <td>1.000000</td>\n",
       "      <td>2.000000</td>\n",
       "      <td>1.000000</td>\n",
       "      <td>3.000000</td>\n",
       "    </tr>\n",
       "    <tr>\n",
       "      <th>75%</th>\n",
       "      <td>13500.250000</td>\n",
       "      <td>1.000000</td>\n",
       "      <td>2.000000</td>\n",
       "      <td>1.000000</td>\n",
       "      <td>4.000000</td>\n",
       "    </tr>\n",
       "    <tr>\n",
       "      <th>max</th>\n",
       "      <td>18000.000000</td>\n",
       "      <td>3.000000</td>\n",
       "      <td>4.000000</td>\n",
       "      <td>3.000000</td>\n",
       "      <td>9.000000</td>\n",
       "    </tr>\n",
       "  </tbody>\n",
       "</table>\n",
       "</div>"
      ],
      "text/plain": [
       "       customer_number  bank_accounts_open  credit_cards_held   homes_owned  \\\n",
       "count     18000.000000        18000.000000       18000.000000  18000.000000   \n",
       "mean       9000.500000            1.255778           1.903500      1.203444   \n",
       "std        5196.296758            0.472501           0.797009      0.427341   \n",
       "min           1.000000            1.000000           1.000000      1.000000   \n",
       "25%        4500.750000            1.000000           1.000000      1.000000   \n",
       "50%        9000.500000            1.000000           2.000000      1.000000   \n",
       "75%       13500.250000            1.000000           2.000000      1.000000   \n",
       "max       18000.000000            3.000000           4.000000      3.000000   \n",
       "\n",
       "       household_size  \n",
       "count    18000.000000  \n",
       "mean         3.499056  \n",
       "std          1.114182  \n",
       "min          1.000000  \n",
       "25%          3.000000  \n",
       "50%          3.000000  \n",
       "75%          4.000000  \n",
       "max          9.000000  "
      ]
     },
     "execution_count": 54,
     "metadata": {},
     "output_type": "execute_result"
    }
   ],
   "source": [
    "#statistical distribution\n",
    "df.describe()"
   ]
  },
  {
   "cell_type": "markdown",
   "id": "opened-secretariat",
   "metadata": {},
   "source": [
    "### Get a  representation of the numbers "
   ]
  },
  {
   "cell_type": "code",
   "execution_count": 55,
   "id": "japanese-miniature",
   "metadata": {},
   "outputs": [
    {
     "data": {
      "image/png": "[encoded data removed]",
      "text/plain": [
       "<Figure size 1080x720 with 12 Axes>"
      ]
     },
     "metadata": {
      "needs_background": "light"
     },
     "output_type": "display_data"
    }
   ],
   "source": [
    "# using pandas\n",
    "hist = df.hist(figsize=(15,10),layout=(3,4), grid=False)"
   ]
  },
  {
   "cell_type": "code",
   "execution_count": 56,
   "id": "ambient-infrared",
   "metadata": {},
   "outputs": [
    {
     "data": {
      "image/png": "[encoded data removed]",
      "text/plain": [
       "<Figure size 900x900 with 30 Axes>"
      ]
     },
     "metadata": {
      "needs_background": "light"
     },
     "output_type": "display_data"
    }
   ],
   "source": [
    "# check relationships with seaborn\n",
    "sns.pairplot(df)\n",
    "plt.show()"
   ]
  },
  {
   "cell_type": "code",
   "execution_count": null,
   "id": "incident-puzzle",
   "metadata": {},
   "outputs": [],
   "source": []
  },
  {
   "cell_type": "markdown",
   "id": "stainless-header",
   "metadata": {},
   "source": [
    "Only the household_size has a normal distribution."
   ]
  },
  {
   "cell_type": "code",
   "execution_count": 57,
   "id": "motivated-carolina",
   "metadata": {},
   "outputs": [],
   "source": [
    "# # check for multicollinearity \n",
    "# corr_matrix=df.corr(method='pearson')  # default\n",
    "# fig, ax = plt.subplots(figsize=(10, 8))\n",
    "# ax = sns.heatmap(corr_matrix, annot=True)\n",
    "# plt.show()"
   ]
  },
  {
   "cell_type": "markdown",
   "id": "graduate-subcommittee",
   "metadata": {},
   "source": [
    "The graph proves the absence of multicollinearity. \n",
    "\n",
    "\"The linear model makes the following assumptions\n",
    "- Require a linear relationship between the dependent and independent variables.\n",
    "- The error terms (residuals) need to be normally distributed. \n",
    "- If not weights can be introduced to penalize some observations in the error metric.\n",
    "Independent variables are normally distributed.\n",
    "If not (apply transformation Box-Cox)\n",
    "- Absence of multicollinearity.\n",
    "- Independent observations (not repeated)\""
   ]
  },
  {
   "cell_type": "code",
   "execution_count": 58,
   "id": "administrative-personality",
   "metadata": {},
   "outputs": [
    {
     "data": {
      "text/html": [
       "<div>\n",
       "<style scoped>\n",
       "    .dataframe tbody tr th:only-of-type {\n",
       "        vertical-align: middle;\n",
       "    }\n",
       "\n",
       "    .dataframe tbody tr th {\n",
       "        vertical-align: top;\n",
       "    }\n",
       "\n",
       "    .dataframe thead th {\n",
       "        text-align: right;\n",
       "    }\n",
       "</style>\n",
       "<table border=\"1\" class=\"dataframe\">\n",
       "  <thead>\n",
       "    <tr style=\"text-align: right;\">\n",
       "      <th></th>\n",
       "      <th>offer_accepted</th>\n",
       "      <th>reward</th>\n",
       "      <th>mailer_type</th>\n",
       "      <th>income_level</th>\n",
       "      <th>bank_accounts_open</th>\n",
       "      <th>overdraft_protection</th>\n",
       "      <th>credit_rating</th>\n",
       "      <th>credit_cards_held</th>\n",
       "      <th>homes_owned</th>\n",
       "      <th>household_size</th>\n",
       "      <th>own_your_home</th>\n",
       "      <th>average_balance</th>\n",
       "      <th>q1_balance</th>\n",
       "      <th>q2_balance</th>\n",
       "      <th>q3_balance</th>\n",
       "      <th>q4_balance</th>\n",
       "    </tr>\n",
       "  </thead>\n",
       "  <tbody>\n",
       "    <tr>\n",
       "      <th>0</th>\n",
       "      <td>No</td>\n",
       "      <td>Air Miles</td>\n",
       "      <td>Letter</td>\n",
       "      <td>High</td>\n",
       "      <td>1</td>\n",
       "      <td>No</td>\n",
       "      <td>High</td>\n",
       "      <td>2</td>\n",
       "      <td>1</td>\n",
       "      <td>4</td>\n",
       "      <td>No</td>\n",
       "      <td>1160.75</td>\n",
       "      <td>1669.0</td>\n",
       "      <td>877.0</td>\n",
       "      <td>1095.0</td>\n",
       "      <td>1002.0</td>\n",
       "    </tr>\n",
       "    <tr>\n",
       "      <th>1</th>\n",
       "      <td>No</td>\n",
       "      <td>Air Miles</td>\n",
       "      <td>Letter</td>\n",
       "      <td>Medium</td>\n",
       "      <td>1</td>\n",
       "      <td>No</td>\n",
       "      <td>Medium</td>\n",
       "      <td>2</td>\n",
       "      <td>2</td>\n",
       "      <td>5</td>\n",
       "      <td>Yes</td>\n",
       "      <td>147.25</td>\n",
       "      <td>39.0</td>\n",
       "      <td>106.0</td>\n",
       "      <td>78.0</td>\n",
       "      <td>366.0</td>\n",
       "    </tr>\n",
       "    <tr>\n",
       "      <th>2</th>\n",
       "      <td>No</td>\n",
       "      <td>Air Miles</td>\n",
       "      <td>Postcard</td>\n",
       "      <td>High</td>\n",
       "      <td>2</td>\n",
       "      <td>No</td>\n",
       "      <td>Medium</td>\n",
       "      <td>2</td>\n",
       "      <td>1</td>\n",
       "      <td>2</td>\n",
       "      <td>Yes</td>\n",
       "      <td>276.5</td>\n",
       "      <td>367.0</td>\n",
       "      <td>352.0</td>\n",
       "      <td>145.0</td>\n",
       "      <td>242.0</td>\n",
       "    </tr>\n",
       "    <tr>\n",
       "      <th>3</th>\n",
       "      <td>No</td>\n",
       "      <td>Air Miles</td>\n",
       "      <td>Letter</td>\n",
       "      <td>Medium</td>\n",
       "      <td>2</td>\n",
       "      <td>No</td>\n",
       "      <td>High</td>\n",
       "      <td>1</td>\n",
       "      <td>1</td>\n",
       "      <td>4</td>\n",
       "      <td>No</td>\n",
       "      <td>1219.0</td>\n",
       "      <td>1578.0</td>\n",
       "      <td>1760.0</td>\n",
       "      <td>1119.0</td>\n",
       "      <td>419.0</td>\n",
       "    </tr>\n",
       "    <tr>\n",
       "      <th>4</th>\n",
       "      <td>No</td>\n",
       "      <td>Air Miles</td>\n",
       "      <td>Letter</td>\n",
       "      <td>Medium</td>\n",
       "      <td>1</td>\n",
       "      <td>No</td>\n",
       "      <td>Medium</td>\n",
       "      <td>2</td>\n",
       "      <td>1</td>\n",
       "      <td>6</td>\n",
       "      <td>Yes</td>\n",
       "      <td>1211.0</td>\n",
       "      <td>2140.0</td>\n",
       "      <td>1357.0</td>\n",
       "      <td>982.0</td>\n",
       "      <td>365.0</td>\n",
       "    </tr>\n",
       "    <tr>\n",
       "      <th>5</th>\n",
       "      <td>No</td>\n",
       "      <td>Air Miles</td>\n",
       "      <td>Letter</td>\n",
       "      <td>Medium</td>\n",
       "      <td>1</td>\n",
       "      <td>No</td>\n",
       "      <td>High</td>\n",
       "      <td>3</td>\n",
       "      <td>1</td>\n",
       "      <td>4</td>\n",
       "      <td>No</td>\n",
       "      <td>1114.75</td>\n",
       "      <td>1847.0</td>\n",
       "      <td>1365.0</td>\n",
       "      <td>750.0</td>\n",
       "      <td>497.0</td>\n",
       "    </tr>\n",
       "    <tr>\n",
       "      <th>6</th>\n",
       "      <td>No</td>\n",
       "      <td>Air Miles</td>\n",
       "      <td>Letter</td>\n",
       "      <td>Medium</td>\n",
       "      <td>1</td>\n",
       "      <td>No</td>\n",
       "      <td>Medium</td>\n",
       "      <td>2</td>\n",
       "      <td>1</td>\n",
       "      <td>3</td>\n",
       "      <td>No</td>\n",
       "      <td>283.75</td>\n",
       "      <td>468.0</td>\n",
       "      <td>188.0</td>\n",
       "      <td>347.0</td>\n",
       "      <td>132.0</td>\n",
       "    </tr>\n",
       "    <tr>\n",
       "      <th>7</th>\n",
       "      <td>No</td>\n",
       "      <td>Cash Back</td>\n",
       "      <td>Postcard</td>\n",
       "      <td>Low</td>\n",
       "      <td>1</td>\n",
       "      <td>No</td>\n",
       "      <td>Medium</td>\n",
       "      <td>4</td>\n",
       "      <td>1</td>\n",
       "      <td>4</td>\n",
       "      <td>Yes</td>\n",
       "      <td>278.5</td>\n",
       "      <td>132.0</td>\n",
       "      <td>391.0</td>\n",
       "      <td>285.0</td>\n",
       "      <td>306.0</td>\n",
       "    </tr>\n",
       "    <tr>\n",
       "      <th>8</th>\n",
       "      <td>No</td>\n",
       "      <td>Air Miles</td>\n",
       "      <td>Postcard</td>\n",
       "      <td>Medium</td>\n",
       "      <td>1</td>\n",
       "      <td>No</td>\n",
       "      <td>Low</td>\n",
       "      <td>2</td>\n",
       "      <td>1</td>\n",
       "      <td>4</td>\n",
       "      <td>Yes</td>\n",
       "      <td>1005.0</td>\n",
       "      <td>894.0</td>\n",
       "      <td>891.0</td>\n",
       "      <td>882.0</td>\n",
       "      <td>1353.0</td>\n",
       "    </tr>\n",
       "    <tr>\n",
       "      <th>9</th>\n",
       "      <td>No</td>\n",
       "      <td>Air Miles</td>\n",
       "      <td>Letter</td>\n",
       "      <td>High</td>\n",
       "      <td>2</td>\n",
       "      <td>No</td>\n",
       "      <td>Low</td>\n",
       "      <td>3</td>\n",
       "      <td>2</td>\n",
       "      <td>4</td>\n",
       "      <td>Yes</td>\n",
       "      <td>974.25</td>\n",
       "      <td>1814.0</td>\n",
       "      <td>1454.0</td>\n",
       "      <td>514.0</td>\n",
       "      <td>115.0</td>\n",
       "    </tr>\n",
       "  </tbody>\n",
       "</table>\n",
       "</div>"
      ],
      "text/plain": [
       "  offer_accepted     reward mailer_type income_level  bank_accounts_open  \\\n",
       "0             No  Air Miles      Letter         High                   1   \n",
       "1             No  Air Miles      Letter       Medium                   1   \n",
       "2             No  Air Miles    Postcard         High                   2   \n",
       "3             No  Air Miles      Letter       Medium                   2   \n",
       "4             No  Air Miles      Letter       Medium                   1   \n",
       "5             No  Air Miles      Letter       Medium                   1   \n",
       "6             No  Air Miles      Letter       Medium                   1   \n",
       "7             No  Cash Back    Postcard          Low                   1   \n",
       "8             No  Air Miles    Postcard       Medium                   1   \n",
       "9             No  Air Miles      Letter         High                   2   \n",
       "\n",
       "  overdraft_protection credit_rating  credit_cards_held  homes_owned  \\\n",
       "0                   No          High                  2            1   \n",
       "1                   No        Medium                  2            2   \n",
       "2                   No        Medium                  2            1   \n",
       "3                   No          High                  1            1   \n",
       "4                   No        Medium                  2            1   \n",
       "5                   No          High                  3            1   \n",
       "6                   No        Medium                  2            1   \n",
       "7                   No        Medium                  4            1   \n",
       "8                   No           Low                  2            1   \n",
       "9                   No           Low                  3            2   \n",
       "\n",
       "   household_size own_your_home average_balance q1_balance q2_balance  \\\n",
       "0               4            No         1160.75     1669.0      877.0   \n",
       "1               5           Yes          147.25       39.0      106.0   \n",
       "2               2           Yes           276.5      367.0      352.0   \n",
       "3               4            No          1219.0     1578.0     1760.0   \n",
       "4               6           Yes          1211.0     2140.0     1357.0   \n",
       "5               4            No         1114.75     1847.0     1365.0   \n",
       "6               3            No          283.75      468.0      188.0   \n",
       "7               4           Yes           278.5      132.0      391.0   \n",
       "8               4           Yes          1005.0      894.0      891.0   \n",
       "9               4           Yes          974.25     1814.0     1454.0   \n",
       "\n",
       "  q3_balance q4_balance  \n",
       "0     1095.0     1002.0  \n",
       "1       78.0      366.0  \n",
       "2      145.0      242.0  \n",
       "3     1119.0      419.0  \n",
       "4      982.0      365.0  \n",
       "5      750.0      497.0  \n",
       "6      347.0      132.0  \n",
       "7      285.0      306.0  \n",
       "8      882.0     1353.0  \n",
       "9      514.0      115.0  "
      ]
     },
     "execution_count": 58,
     "metadata": {},
     "output_type": "execute_result"
    }
   ],
   "source": [
    "# check for more claning\n",
    "# df.head(20)\n",
    "# df.tail(20)\n",
    "# drop customer_number\n",
    "df=df.drop(['customer_number'], axis=1)\n",
    "df.head(10)"
   ]
  },
  {
   "cell_type": "markdown",
   "id": "expected-basin",
   "metadata": {},
   "source": [
    "It seems that there is no need to make more cleaning. Neither for Bucketing features."
   ]
  },
  {
   "cell_type": "code",
   "execution_count": 59,
   "id": "individual-swaziland",
   "metadata": {},
   "outputs": [
    {
     "data": {
      "text/plain": [
       "Index(['offer_accepted', 'reward', 'mailer_type', 'income_level',\n",
       "       'bank_accounts_open', 'overdraft_protection', 'credit_rating',\n",
       "       'credit_cards_held', 'homes_owned', 'household_size', 'own_your_home',\n",
       "       'average_balance', 'q1_balance', 'q2_balance', 'q3_balance',\n",
       "       'q4_balance'],\n",
       "      dtype='object')"
      ]
     },
     "execution_count": 59,
     "metadata": {},
     "output_type": "execute_result"
    }
   ],
   "source": [
    "df.columns"
   ]
  },
  {
   "cell_type": "code",
   "execution_count": null,
   "id": "enabling-johnson",
   "metadata": {},
   "outputs": [],
   "source": []
  },
  {
   "cell_type": "code",
   "execution_count": 60,
   "id": "proud-belize",
   "metadata": {},
   "outputs": [
    {
     "data": {
      "text/html": [
       "<div>\n",
       "<style scoped>\n",
       "    .dataframe tbody tr th:only-of-type {\n",
       "        vertical-align: middle;\n",
       "    }\n",
       "\n",
       "    .dataframe tbody tr th {\n",
       "        vertical-align: top;\n",
       "    }\n",
       "\n",
       "    .dataframe thead th {\n",
       "        text-align: right;\n",
       "    }\n",
       "</style>\n",
       "<table border=\"1\" class=\"dataframe\">\n",
       "  <thead>\n",
       "    <tr style=\"text-align: right;\">\n",
       "      <th></th>\n",
       "      <th>offer_accepted</th>\n",
       "      <th>reward</th>\n",
       "      <th>mailer_type</th>\n",
       "      <th>income_level</th>\n",
       "      <th>overdraft_protection</th>\n",
       "      <th>credit_rating</th>\n",
       "      <th>own_your_home</th>\n",
       "      <th>average_balance</th>\n",
       "      <th>q1_balance</th>\n",
       "      <th>q2_balance</th>\n",
       "      <th>q3_balance</th>\n",
       "      <th>q4_balance</th>\n",
       "    </tr>\n",
       "  </thead>\n",
       "  <tbody>\n",
       "    <tr>\n",
       "      <th>0</th>\n",
       "      <td>No</td>\n",
       "      <td>Air Miles</td>\n",
       "      <td>Letter</td>\n",
       "      <td>High</td>\n",
       "      <td>No</td>\n",
       "      <td>High</td>\n",
       "      <td>No</td>\n",
       "      <td>1160.75</td>\n",
       "      <td>1669.0</td>\n",
       "      <td>877.0</td>\n",
       "      <td>1095.0</td>\n",
       "      <td>1002.0</td>\n",
       "    </tr>\n",
       "    <tr>\n",
       "      <th>1</th>\n",
       "      <td>No</td>\n",
       "      <td>Air Miles</td>\n",
       "      <td>Letter</td>\n",
       "      <td>Medium</td>\n",
       "      <td>No</td>\n",
       "      <td>Medium</td>\n",
       "      <td>Yes</td>\n",
       "      <td>147.25</td>\n",
       "      <td>39.0</td>\n",
       "      <td>106.0</td>\n",
       "      <td>78.0</td>\n",
       "      <td>366.0</td>\n",
       "    </tr>\n",
       "    <tr>\n",
       "      <th>2</th>\n",
       "      <td>No</td>\n",
       "      <td>Air Miles</td>\n",
       "      <td>Postcard</td>\n",
       "      <td>High</td>\n",
       "      <td>No</td>\n",
       "      <td>Medium</td>\n",
       "      <td>Yes</td>\n",
       "      <td>276.5</td>\n",
       "      <td>367.0</td>\n",
       "      <td>352.0</td>\n",
       "      <td>145.0</td>\n",
       "      <td>242.0</td>\n",
       "    </tr>\n",
       "    <tr>\n",
       "      <th>3</th>\n",
       "      <td>No</td>\n",
       "      <td>Air Miles</td>\n",
       "      <td>Letter</td>\n",
       "      <td>Medium</td>\n",
       "      <td>No</td>\n",
       "      <td>High</td>\n",
       "      <td>No</td>\n",
       "      <td>1219.0</td>\n",
       "      <td>1578.0</td>\n",
       "      <td>1760.0</td>\n",
       "      <td>1119.0</td>\n",
       "      <td>419.0</td>\n",
       "    </tr>\n",
       "    <tr>\n",
       "      <th>4</th>\n",
       "      <td>No</td>\n",
       "      <td>Air Miles</td>\n",
       "      <td>Letter</td>\n",
       "      <td>Medium</td>\n",
       "      <td>No</td>\n",
       "      <td>Medium</td>\n",
       "      <td>Yes</td>\n",
       "      <td>1211.0</td>\n",
       "      <td>2140.0</td>\n",
       "      <td>1357.0</td>\n",
       "      <td>982.0</td>\n",
       "      <td>365.0</td>\n",
       "    </tr>\n",
       "    <tr>\n",
       "      <th>...</th>\n",
       "      <td>...</td>\n",
       "      <td>...</td>\n",
       "      <td>...</td>\n",
       "      <td>...</td>\n",
       "      <td>...</td>\n",
       "      <td>...</td>\n",
       "      <td>...</td>\n",
       "      <td>...</td>\n",
       "      <td>...</td>\n",
       "      <td>...</td>\n",
       "      <td>...</td>\n",
       "      <td>...</td>\n",
       "    </tr>\n",
       "    <tr>\n",
       "      <th>17995</th>\n",
       "      <td>No</td>\n",
       "      <td>Cash Back</td>\n",
       "      <td>Letter</td>\n",
       "      <td>High</td>\n",
       "      <td>No</td>\n",
       "      <td>Low</td>\n",
       "      <td>Yes</td>\n",
       "      <td>167.5</td>\n",
       "      <td>136.0</td>\n",
       "      <td>65.0</td>\n",
       "      <td>71.0</td>\n",
       "      <td>398.0</td>\n",
       "    </tr>\n",
       "    <tr>\n",
       "      <th>17996</th>\n",
       "      <td>No</td>\n",
       "      <td>Cash Back</td>\n",
       "      <td>Letter</td>\n",
       "      <td>High</td>\n",
       "      <td>No</td>\n",
       "      <td>Low</td>\n",
       "      <td>Yes</td>\n",
       "      <td>850.5</td>\n",
       "      <td>984.0</td>\n",
       "      <td>940.0</td>\n",
       "      <td>943.0</td>\n",
       "      <td>535.0</td>\n",
       "    </tr>\n",
       "    <tr>\n",
       "      <th>17997</th>\n",
       "      <td>No</td>\n",
       "      <td>Cash Back</td>\n",
       "      <td>Letter</td>\n",
       "      <td>High</td>\n",
       "      <td>No</td>\n",
       "      <td>Low</td>\n",
       "      <td>No</td>\n",
       "      <td>1087.25</td>\n",
       "      <td>918.0</td>\n",
       "      <td>767.0</td>\n",
       "      <td>1170.0</td>\n",
       "      <td>1494.0</td>\n",
       "    </tr>\n",
       "    <tr>\n",
       "      <th>17998</th>\n",
       "      <td>No</td>\n",
       "      <td>Cash Back</td>\n",
       "      <td>Letter</td>\n",
       "      <td>Medium</td>\n",
       "      <td>No</td>\n",
       "      <td>Medium</td>\n",
       "      <td>Yes</td>\n",
       "      <td>1022.25</td>\n",
       "      <td>626.0</td>\n",
       "      <td>983.0</td>\n",
       "      <td>865.0</td>\n",
       "      <td>1615.0</td>\n",
       "    </tr>\n",
       "    <tr>\n",
       "      <th>17999</th>\n",
       "      <td>No</td>\n",
       "      <td>Cash Back</td>\n",
       "      <td>Letter</td>\n",
       "      <td>Low</td>\n",
       "      <td>No</td>\n",
       "      <td>Medium</td>\n",
       "      <td>No</td>\n",
       "      <td>1056.0</td>\n",
       "      <td>265.0</td>\n",
       "      <td>1378.0</td>\n",
       "      <td>1978.0</td>\n",
       "      <td>603.0</td>\n",
       "    </tr>\n",
       "  </tbody>\n",
       "</table>\n",
       "<p>18000 rows × 12 columns</p>\n",
       "</div>"
      ],
      "text/plain": [
       "      offer_accepted     reward mailer_type income_level overdraft_protection  \\\n",
       "0                 No  Air Miles      Letter         High                   No   \n",
       "1                 No  Air Miles      Letter       Medium                   No   \n",
       "2                 No  Air Miles    Postcard         High                   No   \n",
       "3                 No  Air Miles      Letter       Medium                   No   \n",
       "4                 No  Air Miles      Letter       Medium                   No   \n",
       "...              ...        ...         ...          ...                  ...   \n",
       "17995             No  Cash Back      Letter         High                   No   \n",
       "17996             No  Cash Back      Letter         High                   No   \n",
       "17997             No  Cash Back      Letter         High                   No   \n",
       "17998             No  Cash Back      Letter       Medium                   No   \n",
       "17999             No  Cash Back      Letter          Low                   No   \n",
       "\n",
       "      credit_rating own_your_home average_balance q1_balance q2_balance  \\\n",
       "0              High            No         1160.75     1669.0      877.0   \n",
       "1            Medium           Yes          147.25       39.0      106.0   \n",
       "2            Medium           Yes           276.5      367.0      352.0   \n",
       "3              High            No          1219.0     1578.0     1760.0   \n",
       "4            Medium           Yes          1211.0     2140.0     1357.0   \n",
       "...             ...           ...             ...        ...        ...   \n",
       "17995           Low           Yes           167.5      136.0       65.0   \n",
       "17996           Low           Yes           850.5      984.0      940.0   \n",
       "17997           Low            No         1087.25      918.0      767.0   \n",
       "17998        Medium           Yes         1022.25      626.0      983.0   \n",
       "17999        Medium            No          1056.0      265.0     1378.0   \n",
       "\n",
       "      q3_balance q4_balance  \n",
       "0         1095.0     1002.0  \n",
       "1           78.0      366.0  \n",
       "2          145.0      242.0  \n",
       "3         1119.0      419.0  \n",
       "4          982.0      365.0  \n",
       "...          ...        ...  \n",
       "17995       71.0      398.0  \n",
       "17996      943.0      535.0  \n",
       "17997     1170.0     1494.0  \n",
       "17998      865.0     1615.0  \n",
       "17999     1978.0      603.0  \n",
       "\n",
       "[18000 rows x 12 columns]"
      ]
     },
     "execution_count": 60,
     "metadata": {},
     "output_type": "execute_result"
    }
   ],
   "source": [
    "# label / encode any categorical columns \n",
    "\n",
    "cat = df.select_dtypes(include = np.object)\n",
    "cat"
   ]
  },
  {
   "cell_type": "code",
   "execution_count": 61,
   "id": "corresponding-technology",
   "metadata": {},
   "outputs": [
    {
     "name": "stdout",
     "output_type": "stream",
     "text": [
      "Frequency analysis of column:  offer_accepted\n",
      "Frequency analysis of column:  reward\n",
      "Frequency analysis of column:  mailer_type\n",
      "Frequency analysis of column:  income_level\n",
      "Frequency analysis of column:  overdraft_protection\n",
      "Frequency analysis of column:  credit_rating\n",
      "Frequency analysis of column:  own_your_home\n",
      "Frequency analysis of column:  average_balance\n"
     ]
    },
    {
     "ename": "TypeError",
     "evalue": "'<' not supported between instances of 'float' and 'method'",
     "output_type": "error",
     "traceback": [
      "\u001b[0;31m---------------------------------------------------------------------------\u001b[0m",
      "\u001b[0;31mTypeError\u001b[0m                                 Traceback (most recent call last)",
      "\u001b[0;32m~/opt/anaconda3/envs/ironhackenv/lib/python3.8/site-packages/pandas/core/algorithms.py\u001b[0m in \u001b[0;36msafe_sort\u001b[0;34m(values, codes, na_sentinel, assume_unique, verify)\u001b[0m\n\u001b[1;32m   2122\u001b[0m         \u001b[0;32mtry\u001b[0m\u001b[0;34m:\u001b[0m\u001b[0;34m\u001b[0m\u001b[0;34m\u001b[0m\u001b[0m\n\u001b[0;32m-> 2123\u001b[0;31m             \u001b[0msorter\u001b[0m \u001b[0;34m=\u001b[0m \u001b[0mvalues\u001b[0m\u001b[0;34m.\u001b[0m\u001b[0margsort\u001b[0m\u001b[0;34m(\u001b[0m\u001b[0;34m)\u001b[0m\u001b[0;34m\u001b[0m\u001b[0;34m\u001b[0m\u001b[0m\n\u001b[0m\u001b[1;32m   2124\u001b[0m             \u001b[0mordered\u001b[0m \u001b[0;34m=\u001b[0m \u001b[0mvalues\u001b[0m\u001b[0;34m.\u001b[0m\u001b[0mtake\u001b[0m\u001b[0;34m(\u001b[0m\u001b[0msorter\u001b[0m\u001b[0;34m)\u001b[0m\u001b[0;34m\u001b[0m\u001b[0;34m\u001b[0m\u001b[0m\n",
      "\u001b[0;31mTypeError\u001b[0m: '<' not supported between instances of 'float' and 'method'",
      "\nDuring handling of the above exception, another exception occurred:\n",
      "\u001b[0;31mTypeError\u001b[0m                                 Traceback (most recent call last)",
      "\u001b[0;32m<ipython-input-61-ae8452978679>\u001b[0m in \u001b[0;36m<module>\u001b[0;34m\u001b[0m\n\u001b[1;32m      5\u001b[0m     \u001b[0mprint\u001b[0m\u001b[0;34m(\u001b[0m\u001b[0;34m\"Frequency analysis of column: \"\u001b[0m\u001b[0;34m,\u001b[0m\u001b[0mcol\u001b[0m\u001b[0;34m)\u001b[0m\u001b[0;34m\u001b[0m\u001b[0;34m\u001b[0m\u001b[0m\n\u001b[1;32m      6\u001b[0m     \u001b[0mmy_data\u001b[0m \u001b[0;34m=\u001b[0m \u001b[0mdf\u001b[0m\u001b[0;34m[\u001b[0m\u001b[0mcol\u001b[0m\u001b[0;34m]\u001b[0m\u001b[0;34m.\u001b[0m\u001b[0mvalue_counts\u001b[0m\u001b[0;34m(\u001b[0m\u001b[0;34m)\u001b[0m\u001b[0;34m.\u001b[0m\u001b[0mreset_index\u001b[0m\u001b[0;34m(\u001b[0m\u001b[0;34m)\u001b[0m\u001b[0;34m\u001b[0m\u001b[0;34m\u001b[0m\u001b[0m\n\u001b[0;32m----> 7\u001b[0;31m     \u001b[0max\u001b[0m \u001b[0;34m=\u001b[0m \u001b[0msns\u001b[0m\u001b[0;34m.\u001b[0m\u001b[0mbarplot\u001b[0m\u001b[0;34m(\u001b[0m\u001b[0mx\u001b[0m\u001b[0;34m=\u001b[0m\u001b[0mcol\u001b[0m\u001b[0;34m,\u001b[0m \u001b[0my\u001b[0m\u001b[0;34m=\u001b[0m\u001b[0;34m\"index\"\u001b[0m\u001b[0;34m,\u001b[0m \u001b[0mdata\u001b[0m \u001b[0;34m=\u001b[0m \u001b[0mmy_data\u001b[0m\u001b[0;34m)\u001b[0m\u001b[0;34m.\u001b[0m\u001b[0mset_title\u001b[0m\u001b[0;34m(\u001b[0m\u001b[0mcol\u001b[0m\u001b[0;34m.\u001b[0m\u001b[0mupper\u001b[0m\u001b[0;34m(\u001b[0m\u001b[0;34m)\u001b[0m\u001b[0;34m)\u001b[0m\u001b[0;34m\u001b[0m\u001b[0;34m\u001b[0m\u001b[0m\n\u001b[0m\u001b[1;32m      8\u001b[0m     \u001b[0mplt\u001b[0m\u001b[0;34m.\u001b[0m\u001b[0mfigure\u001b[0m\u001b[0;34m(\u001b[0m\u001b[0;34m)\u001b[0m\u001b[0;34m\u001b[0m\u001b[0;34m\u001b[0m\u001b[0m\n",
      "\u001b[0;32m~/opt/anaconda3/envs/ironhackenv/lib/python3.8/site-packages/seaborn/_decorators.py\u001b[0m in \u001b[0;36minner_f\u001b[0;34m(*args, **kwargs)\u001b[0m\n\u001b[1;32m     44\u001b[0m             )\n\u001b[1;32m     45\u001b[0m         \u001b[0mkwargs\u001b[0m\u001b[0;34m.\u001b[0m\u001b[0mupdate\u001b[0m\u001b[0;34m(\u001b[0m\u001b[0;34m{\u001b[0m\u001b[0mk\u001b[0m\u001b[0;34m:\u001b[0m \u001b[0marg\u001b[0m \u001b[0;32mfor\u001b[0m \u001b[0mk\u001b[0m\u001b[0;34m,\u001b[0m \u001b[0marg\u001b[0m \u001b[0;32min\u001b[0m \u001b[0mzip\u001b[0m\u001b[0;34m(\u001b[0m\u001b[0msig\u001b[0m\u001b[0;34m.\u001b[0m\u001b[0mparameters\u001b[0m\u001b[0;34m,\u001b[0m \u001b[0margs\u001b[0m\u001b[0;34m)\u001b[0m\u001b[0;34m}\u001b[0m\u001b[0;34m)\u001b[0m\u001b[0;34m\u001b[0m\u001b[0;34m\u001b[0m\u001b[0m\n\u001b[0;32m---> 46\u001b[0;31m         \u001b[0;32mreturn\u001b[0m \u001b[0mf\u001b[0m\u001b[0;34m(\u001b[0m\u001b[0;34m**\u001b[0m\u001b[0mkwargs\u001b[0m\u001b[0;34m)\u001b[0m\u001b[0;34m\u001b[0m\u001b[0;34m\u001b[0m\u001b[0m\n\u001b[0m\u001b[1;32m     47\u001b[0m     \u001b[0;32mreturn\u001b[0m \u001b[0minner_f\u001b[0m\u001b[0;34m\u001b[0m\u001b[0;34m\u001b[0m\u001b[0m\n\u001b[1;32m     48\u001b[0m \u001b[0;34m\u001b[0m\u001b[0m\n",
      "\u001b[0;32m~/opt/anaconda3/envs/ironhackenv/lib/python3.8/site-packages/seaborn/categorical.py\u001b[0m in \u001b[0;36mbarplot\u001b[0;34m(x, y, hue, data, order, hue_order, estimator, ci, n_boot, units, seed, orient, color, palette, saturation, errcolor, errwidth, capsize, dodge, ax, **kwargs)\u001b[0m\n\u001b[1;32m   3167\u001b[0m ):\n\u001b[1;32m   3168\u001b[0m \u001b[0;34m\u001b[0m\u001b[0m\n\u001b[0;32m-> 3169\u001b[0;31m     plotter = _BarPlotter(x, y, hue, data, order, hue_order,\n\u001b[0m\u001b[1;32m   3170\u001b[0m                           \u001b[0mestimator\u001b[0m\u001b[0;34m,\u001b[0m \u001b[0mci\u001b[0m\u001b[0;34m,\u001b[0m \u001b[0mn_boot\u001b[0m\u001b[0;34m,\u001b[0m \u001b[0munits\u001b[0m\u001b[0;34m,\u001b[0m \u001b[0mseed\u001b[0m\u001b[0;34m,\u001b[0m\u001b[0;34m\u001b[0m\u001b[0;34m\u001b[0m\u001b[0m\n\u001b[1;32m   3171\u001b[0m                           \u001b[0morient\u001b[0m\u001b[0;34m,\u001b[0m \u001b[0mcolor\u001b[0m\u001b[0;34m,\u001b[0m \u001b[0mpalette\u001b[0m\u001b[0;34m,\u001b[0m \u001b[0msaturation\u001b[0m\u001b[0;34m,\u001b[0m\u001b[0;34m\u001b[0m\u001b[0;34m\u001b[0m\u001b[0m\n",
      "\u001b[0;32m~/opt/anaconda3/envs/ironhackenv/lib/python3.8/site-packages/seaborn/categorical.py\u001b[0m in \u001b[0;36m__init__\u001b[0;34m(self, x, y, hue, data, order, hue_order, estimator, ci, n_boot, units, seed, orient, color, palette, saturation, errcolor, errwidth, capsize, dodge)\u001b[0m\n\u001b[1;32m   1582\u001b[0m                  errwidth, capsize, dodge):\n\u001b[1;32m   1583\u001b[0m         \u001b[0;34m\"\"\"Initialize the plotter.\"\"\"\u001b[0m\u001b[0;34m\u001b[0m\u001b[0;34m\u001b[0m\u001b[0m\n\u001b[0;32m-> 1584\u001b[0;31m         self.establish_variables(x, y, hue, data, orient,\n\u001b[0m\u001b[1;32m   1585\u001b[0m                                  order, hue_order, units)\n\u001b[1;32m   1586\u001b[0m         \u001b[0mself\u001b[0m\u001b[0;34m.\u001b[0m\u001b[0mestablish_colors\u001b[0m\u001b[0;34m(\u001b[0m\u001b[0mcolor\u001b[0m\u001b[0;34m,\u001b[0m \u001b[0mpalette\u001b[0m\u001b[0;34m,\u001b[0m \u001b[0msaturation\u001b[0m\u001b[0;34m)\u001b[0m\u001b[0;34m\u001b[0m\u001b[0;34m\u001b[0m\u001b[0m\n",
      "\u001b[0;32m~/opt/anaconda3/envs/ironhackenv/lib/python3.8/site-packages/seaborn/categorical.py\u001b[0m in \u001b[0;36mestablish_variables\u001b[0;34m(self, x, y, hue, data, orient, order, hue_order, units)\u001b[0m\n\u001b[1;32m    204\u001b[0m \u001b[0;34m\u001b[0m\u001b[0m\n\u001b[1;32m    205\u001b[0m                 \u001b[0;31m# Group the numeric data\u001b[0m\u001b[0;34m\u001b[0m\u001b[0;34m\u001b[0m\u001b[0;34m\u001b[0m\u001b[0m\n\u001b[0;32m--> 206\u001b[0;31m                 plot_data, value_label = self._group_longform(vals, groups,\n\u001b[0m\u001b[1;32m    207\u001b[0m                                                               group_names)\n\u001b[1;32m    208\u001b[0m \u001b[0;34m\u001b[0m\u001b[0m\n",
      "\u001b[0;32m~/opt/anaconda3/envs/ironhackenv/lib/python3.8/site-packages/seaborn/categorical.py\u001b[0m in \u001b[0;36m_group_longform\u001b[0;34m(self, vals, grouper, order)\u001b[0m\n\u001b[1;32m    255\u001b[0m         \u001b[0;32mfor\u001b[0m \u001b[0mg\u001b[0m \u001b[0;32min\u001b[0m \u001b[0morder\u001b[0m\u001b[0;34m:\u001b[0m\u001b[0;34m\u001b[0m\u001b[0;34m\u001b[0m\u001b[0m\n\u001b[1;32m    256\u001b[0m             \u001b[0;32mtry\u001b[0m\u001b[0;34m:\u001b[0m\u001b[0;34m\u001b[0m\u001b[0;34m\u001b[0m\u001b[0m\n\u001b[0;32m--> 257\u001b[0;31m                 \u001b[0mg_vals\u001b[0m \u001b[0;34m=\u001b[0m \u001b[0mgrouped_vals\u001b[0m\u001b[0;34m.\u001b[0m\u001b[0mget_group\u001b[0m\u001b[0;34m(\u001b[0m\u001b[0mg\u001b[0m\u001b[0;34m)\u001b[0m\u001b[0;34m\u001b[0m\u001b[0;34m\u001b[0m\u001b[0m\n\u001b[0m\u001b[1;32m    258\u001b[0m             \u001b[0;32mexcept\u001b[0m \u001b[0mKeyError\u001b[0m\u001b[0;34m:\u001b[0m\u001b[0;34m\u001b[0m\u001b[0;34m\u001b[0m\u001b[0m\n\u001b[1;32m    259\u001b[0m                 \u001b[0mg_vals\u001b[0m \u001b[0;34m=\u001b[0m \u001b[0mnp\u001b[0m\u001b[0;34m.\u001b[0m\u001b[0marray\u001b[0m\u001b[0;34m(\u001b[0m\u001b[0;34m[\u001b[0m\u001b[0;34m]\u001b[0m\u001b[0;34m)\u001b[0m\u001b[0;34m\u001b[0m\u001b[0;34m\u001b[0m\u001b[0m\n",
      "\u001b[0;32m~/opt/anaconda3/envs/ironhackenv/lib/python3.8/site-packages/pandas/core/groupby/groupby.py\u001b[0m in \u001b[0;36mget_group\u001b[0;34m(self, name, obj)\u001b[0m\n\u001b[1;32m    841\u001b[0m             \u001b[0mobj\u001b[0m \u001b[0;34m=\u001b[0m \u001b[0mself\u001b[0m\u001b[0;34m.\u001b[0m\u001b[0m_selected_obj\u001b[0m\u001b[0;34m\u001b[0m\u001b[0;34m\u001b[0m\u001b[0m\n\u001b[1;32m    842\u001b[0m \u001b[0;34m\u001b[0m\u001b[0m\n\u001b[0;32m--> 843\u001b[0;31m         \u001b[0minds\u001b[0m \u001b[0;34m=\u001b[0m \u001b[0mself\u001b[0m\u001b[0;34m.\u001b[0m\u001b[0m_get_index\u001b[0m\u001b[0;34m(\u001b[0m\u001b[0mname\u001b[0m\u001b[0;34m)\u001b[0m\u001b[0;34m\u001b[0m\u001b[0;34m\u001b[0m\u001b[0m\n\u001b[0m\u001b[1;32m    844\u001b[0m         \u001b[0;32mif\u001b[0m \u001b[0;32mnot\u001b[0m \u001b[0mlen\u001b[0m\u001b[0;34m(\u001b[0m\u001b[0minds\u001b[0m\u001b[0;34m)\u001b[0m\u001b[0;34m:\u001b[0m\u001b[0;34m\u001b[0m\u001b[0;34m\u001b[0m\u001b[0m\n\u001b[1;32m    845\u001b[0m             \u001b[0;32mraise\u001b[0m \u001b[0mKeyError\u001b[0m\u001b[0;34m(\u001b[0m\u001b[0mname\u001b[0m\u001b[0;34m)\u001b[0m\u001b[0;34m\u001b[0m\u001b[0;34m\u001b[0m\u001b[0m\n",
      "\u001b[0;32m~/opt/anaconda3/envs/ironhackenv/lib/python3.8/site-packages/pandas/core/groupby/groupby.py\u001b[0m in \u001b[0;36m_get_index\u001b[0;34m(self, name)\u001b[0m\n\u001b[1;32m    670\u001b[0m         \u001b[0mSafe\u001b[0m \u001b[0mget\u001b[0m \u001b[0mindex\u001b[0m\u001b[0;34m,\u001b[0m \u001b[0mtranslate\u001b[0m \u001b[0mkeys\u001b[0m \u001b[0;32mfor\u001b[0m \u001b[0mdatelike\u001b[0m \u001b[0mto\u001b[0m \u001b[0munderlying\u001b[0m \u001b[0mrepr\u001b[0m\u001b[0;34m.\u001b[0m\u001b[0;34m\u001b[0m\u001b[0;34m\u001b[0m\u001b[0m\n\u001b[1;32m    671\u001b[0m         \"\"\"\n\u001b[0;32m--> 672\u001b[0;31m         \u001b[0;32mreturn\u001b[0m \u001b[0mself\u001b[0m\u001b[0;34m.\u001b[0m\u001b[0m_get_indices\u001b[0m\u001b[0;34m(\u001b[0m\u001b[0;34m[\u001b[0m\u001b[0mname\u001b[0m\u001b[0;34m]\u001b[0m\u001b[0;34m)\u001b[0m\u001b[0;34m[\u001b[0m\u001b[0;36m0\u001b[0m\u001b[0;34m]\u001b[0m\u001b[0;34m\u001b[0m\u001b[0;34m\u001b[0m\u001b[0m\n\u001b[0m\u001b[1;32m    673\u001b[0m \u001b[0;34m\u001b[0m\u001b[0m\n\u001b[1;32m    674\u001b[0m     \u001b[0;34m@\u001b[0m\u001b[0mfinal\u001b[0m\u001b[0;34m\u001b[0m\u001b[0;34m\u001b[0m\u001b[0m\n",
      "\u001b[0;32m~/opt/anaconda3/envs/ironhackenv/lib/python3.8/site-packages/pandas/core/groupby/groupby.py\u001b[0m in \u001b[0;36m_get_indices\u001b[0;34m(self, names)\u001b[0m\n\u001b[1;32m    634\u001b[0m             \u001b[0;32mreturn\u001b[0m \u001b[0;34m[\u001b[0m\u001b[0;34m]\u001b[0m\u001b[0;34m\u001b[0m\u001b[0;34m\u001b[0m\u001b[0m\n\u001b[1;32m    635\u001b[0m \u001b[0;34m\u001b[0m\u001b[0m\n\u001b[0;32m--> 636\u001b[0;31m         \u001b[0;32mif\u001b[0m \u001b[0mlen\u001b[0m\u001b[0;34m(\u001b[0m\u001b[0mself\u001b[0m\u001b[0;34m.\u001b[0m\u001b[0mindices\u001b[0m\u001b[0;34m)\u001b[0m \u001b[0;34m>\u001b[0m \u001b[0;36m0\u001b[0m\u001b[0;34m:\u001b[0m\u001b[0;34m\u001b[0m\u001b[0;34m\u001b[0m\u001b[0m\n\u001b[0m\u001b[1;32m    637\u001b[0m             \u001b[0mindex_sample\u001b[0m \u001b[0;34m=\u001b[0m \u001b[0mnext\u001b[0m\u001b[0;34m(\u001b[0m\u001b[0miter\u001b[0m\u001b[0;34m(\u001b[0m\u001b[0mself\u001b[0m\u001b[0;34m.\u001b[0m\u001b[0mindices\u001b[0m\u001b[0;34m)\u001b[0m\u001b[0;34m)\u001b[0m\u001b[0;34m\u001b[0m\u001b[0;34m\u001b[0m\u001b[0m\n\u001b[1;32m    638\u001b[0m         \u001b[0;32melse\u001b[0m\u001b[0;34m:\u001b[0m\u001b[0;34m\u001b[0m\u001b[0;34m\u001b[0m\u001b[0m\n",
      "\u001b[0;32m~/opt/anaconda3/envs/ironhackenv/lib/python3.8/site-packages/pandas/core/groupby/groupby.py\u001b[0m in \u001b[0;36mindices\u001b[0;34m(self)\u001b[0m\n\u001b[1;32m    612\u001b[0m         \"\"\"\n\u001b[1;32m    613\u001b[0m         \u001b[0mself\u001b[0m\u001b[0;34m.\u001b[0m\u001b[0m_assure_grouper\u001b[0m\u001b[0;34m(\u001b[0m\u001b[0;34m)\u001b[0m\u001b[0;34m\u001b[0m\u001b[0;34m\u001b[0m\u001b[0m\n\u001b[0;32m--> 614\u001b[0;31m         \u001b[0;32mreturn\u001b[0m \u001b[0mself\u001b[0m\u001b[0;34m.\u001b[0m\u001b[0mgrouper\u001b[0m\u001b[0;34m.\u001b[0m\u001b[0mindices\u001b[0m\u001b[0;34m\u001b[0m\u001b[0;34m\u001b[0m\u001b[0m\n\u001b[0m\u001b[1;32m    615\u001b[0m \u001b[0;34m\u001b[0m\u001b[0m\n\u001b[1;32m    616\u001b[0m     \u001b[0;34m@\u001b[0m\u001b[0mfinal\u001b[0m\u001b[0;34m\u001b[0m\u001b[0;34m\u001b[0m\u001b[0m\n",
      "\u001b[0;32mpandas/_libs/properties.pyx\u001b[0m in \u001b[0;36mpandas._libs.properties.CachedProperty.__get__\u001b[0;34m()\u001b[0m\n",
      "\u001b[0;32m~/opt/anaconda3/envs/ironhackenv/lib/python3.8/site-packages/pandas/core/groupby/ops.py\u001b[0m in \u001b[0;36mindices\u001b[0;34m(self)\u001b[0m\n\u001b[1;32m    247\u001b[0m         \u001b[0;34m\"\"\" dict {group name -> group indices} \"\"\"\u001b[0m\u001b[0;34m\u001b[0m\u001b[0;34m\u001b[0m\u001b[0m\n\u001b[1;32m    248\u001b[0m         if len(self.groupings) == 1 and isinstance(\n\u001b[0;32m--> 249\u001b[0;31m             \u001b[0mself\u001b[0m\u001b[0;34m.\u001b[0m\u001b[0mresult_index\u001b[0m\u001b[0;34m,\u001b[0m \u001b[0mABCCategoricalIndex\u001b[0m\u001b[0;34m\u001b[0m\u001b[0;34m\u001b[0m\u001b[0m\n\u001b[0m\u001b[1;32m    250\u001b[0m         ):\n\u001b[1;32m    251\u001b[0m             \u001b[0;31m# This shows unused categories in indices GH#38642\u001b[0m\u001b[0;34m\u001b[0m\u001b[0;34m\u001b[0m\u001b[0;34m\u001b[0m\u001b[0m\n",
      "\u001b[0;32mpandas/_libs/properties.pyx\u001b[0m in \u001b[0;36mpandas._libs.properties.CachedProperty.__get__\u001b[0;34m()\u001b[0m\n",
      "\u001b[0;32m~/opt/anaconda3/envs/ironhackenv/lib/python3.8/site-packages/pandas/core/groupby/ops.py\u001b[0m in \u001b[0;36mresult_index\u001b[0;34m(self)\u001b[0m\n\u001b[1;32m    338\u001b[0m     \u001b[0;32mdef\u001b[0m \u001b[0mresult_index\u001b[0m\u001b[0;34m(\u001b[0m\u001b[0mself\u001b[0m\u001b[0;34m)\u001b[0m \u001b[0;34m->\u001b[0m \u001b[0mIndex\u001b[0m\u001b[0;34m:\u001b[0m\u001b[0;34m\u001b[0m\u001b[0;34m\u001b[0m\u001b[0m\n\u001b[1;32m    339\u001b[0m         \u001b[0;32mif\u001b[0m \u001b[0;32mnot\u001b[0m \u001b[0mself\u001b[0m\u001b[0;34m.\u001b[0m\u001b[0mcompressed\u001b[0m \u001b[0;32mand\u001b[0m \u001b[0mlen\u001b[0m\u001b[0;34m(\u001b[0m\u001b[0mself\u001b[0m\u001b[0;34m.\u001b[0m\u001b[0mgroupings\u001b[0m\u001b[0;34m)\u001b[0m \u001b[0;34m==\u001b[0m \u001b[0;36m1\u001b[0m\u001b[0;34m:\u001b[0m\u001b[0;34m\u001b[0m\u001b[0;34m\u001b[0m\u001b[0m\n\u001b[0;32m--> 340\u001b[0;31m             \u001b[0;32mreturn\u001b[0m \u001b[0mself\u001b[0m\u001b[0;34m.\u001b[0m\u001b[0mgroupings\u001b[0m\u001b[0;34m[\u001b[0m\u001b[0;36m0\u001b[0m\u001b[0;34m]\u001b[0m\u001b[0;34m.\u001b[0m\u001b[0mresult_index\u001b[0m\u001b[0;34m.\u001b[0m\u001b[0mrename\u001b[0m\u001b[0;34m(\u001b[0m\u001b[0mself\u001b[0m\u001b[0;34m.\u001b[0m\u001b[0mnames\u001b[0m\u001b[0;34m[\u001b[0m\u001b[0;36m0\u001b[0m\u001b[0;34m]\u001b[0m\u001b[0;34m)\u001b[0m\u001b[0;34m\u001b[0m\u001b[0;34m\u001b[0m\u001b[0m\n\u001b[0m\u001b[1;32m    341\u001b[0m \u001b[0;34m\u001b[0m\u001b[0m\n\u001b[1;32m    342\u001b[0m         \u001b[0mcodes\u001b[0m \u001b[0;34m=\u001b[0m \u001b[0mself\u001b[0m\u001b[0;34m.\u001b[0m\u001b[0mreconstructed_codes\u001b[0m\u001b[0;34m\u001b[0m\u001b[0;34m\u001b[0m\u001b[0m\n",
      "\u001b[0;32mpandas/_libs/properties.pyx\u001b[0m in \u001b[0;36mpandas._libs.properties.CachedProperty.__get__\u001b[0;34m()\u001b[0m\n",
      "\u001b[0;32m~/opt/anaconda3/envs/ironhackenv/lib/python3.8/site-packages/pandas/core/groupby/grouper.py\u001b[0m in \u001b[0;36mresult_index\u001b[0;34m(self)\u001b[0m\n\u001b[1;32m    598\u001b[0m             \u001b[0;32massert\u001b[0m \u001b[0misinstance\u001b[0m\u001b[0;34m(\u001b[0m\u001b[0mgroup_idx\u001b[0m\u001b[0;34m,\u001b[0m \u001b[0mCategoricalIndex\u001b[0m\u001b[0;34m)\u001b[0m  \u001b[0;31m# set in __init__\u001b[0m\u001b[0;34m\u001b[0m\u001b[0;34m\u001b[0m\u001b[0m\n\u001b[1;32m    599\u001b[0m             \u001b[0;32mreturn\u001b[0m \u001b[0mrecode_from_groupby\u001b[0m\u001b[0;34m(\u001b[0m\u001b[0mself\u001b[0m\u001b[0;34m.\u001b[0m\u001b[0mall_grouper\u001b[0m\u001b[0;34m,\u001b[0m \u001b[0mself\u001b[0m\u001b[0;34m.\u001b[0m\u001b[0msort\u001b[0m\u001b[0;34m,\u001b[0m \u001b[0mgroup_idx\u001b[0m\u001b[0;34m)\u001b[0m\u001b[0;34m\u001b[0m\u001b[0;34m\u001b[0m\u001b[0m\n\u001b[0;32m--> 600\u001b[0;31m         \u001b[0;32mreturn\u001b[0m \u001b[0mself\u001b[0m\u001b[0;34m.\u001b[0m\u001b[0mgroup_index\u001b[0m\u001b[0;34m\u001b[0m\u001b[0;34m\u001b[0m\u001b[0m\n\u001b[0m\u001b[1;32m    601\u001b[0m \u001b[0;34m\u001b[0m\u001b[0m\n\u001b[1;32m    602\u001b[0m     \u001b[0;34m@\u001b[0m\u001b[0mproperty\u001b[0m\u001b[0;34m\u001b[0m\u001b[0;34m\u001b[0m\u001b[0m\n",
      "\u001b[0;32m~/opt/anaconda3/envs/ironhackenv/lib/python3.8/site-packages/pandas/core/groupby/grouper.py\u001b[0m in \u001b[0;36mgroup_index\u001b[0;34m(self)\u001b[0m\n\u001b[1;32m    603\u001b[0m     \u001b[0;32mdef\u001b[0m \u001b[0mgroup_index\u001b[0m\u001b[0;34m(\u001b[0m\u001b[0mself\u001b[0m\u001b[0;34m)\u001b[0m \u001b[0;34m->\u001b[0m \u001b[0mIndex\u001b[0m\u001b[0;34m:\u001b[0m\u001b[0;34m\u001b[0m\u001b[0;34m\u001b[0m\u001b[0m\n\u001b[1;32m    604\u001b[0m         \u001b[0;32mif\u001b[0m \u001b[0mself\u001b[0m\u001b[0;34m.\u001b[0m\u001b[0m_group_index\u001b[0m \u001b[0;32mis\u001b[0m \u001b[0;32mNone\u001b[0m\u001b[0;34m:\u001b[0m\u001b[0;34m\u001b[0m\u001b[0;34m\u001b[0m\u001b[0m\n\u001b[0;32m--> 605\u001b[0;31m             \u001b[0mself\u001b[0m\u001b[0;34m.\u001b[0m\u001b[0m_make_codes\u001b[0m\u001b[0;34m(\u001b[0m\u001b[0;34m)\u001b[0m\u001b[0;34m\u001b[0m\u001b[0;34m\u001b[0m\u001b[0m\n\u001b[0m\u001b[1;32m    606\u001b[0m         \u001b[0;32massert\u001b[0m \u001b[0mself\u001b[0m\u001b[0;34m.\u001b[0m\u001b[0m_group_index\u001b[0m \u001b[0;32mis\u001b[0m \u001b[0;32mnot\u001b[0m \u001b[0;32mNone\u001b[0m\u001b[0;34m\u001b[0m\u001b[0;34m\u001b[0m\u001b[0m\n\u001b[1;32m    607\u001b[0m         \u001b[0;32mreturn\u001b[0m \u001b[0mself\u001b[0m\u001b[0;34m.\u001b[0m\u001b[0m_group_index\u001b[0m\u001b[0;34m\u001b[0m\u001b[0;34m\u001b[0m\u001b[0m\n",
      "\u001b[0;32m~/opt/anaconda3/envs/ironhackenv/lib/python3.8/site-packages/pandas/core/groupby/grouper.py\u001b[0m in \u001b[0;36m_make_codes\u001b[0;34m(self)\u001b[0m\n\u001b[1;32m    621\u001b[0m             \u001b[0;32melse\u001b[0m\u001b[0;34m:\u001b[0m\u001b[0;34m\u001b[0m\u001b[0;34m\u001b[0m\u001b[0m\n\u001b[1;32m    622\u001b[0m                 \u001b[0mna_sentinel\u001b[0m \u001b[0;34m=\u001b[0m \u001b[0;34m-\u001b[0m\u001b[0;36m1\u001b[0m\u001b[0;34m\u001b[0m\u001b[0;34m\u001b[0m\u001b[0m\n\u001b[0;32m--> 623\u001b[0;31m             codes, uniques = algorithms.factorize(\n\u001b[0m\u001b[1;32m    624\u001b[0m                 \u001b[0mself\u001b[0m\u001b[0;34m.\u001b[0m\u001b[0mgrouper\u001b[0m\u001b[0;34m,\u001b[0m \u001b[0msort\u001b[0m\u001b[0;34m=\u001b[0m\u001b[0mself\u001b[0m\u001b[0;34m.\u001b[0m\u001b[0msort\u001b[0m\u001b[0;34m,\u001b[0m \u001b[0mna_sentinel\u001b[0m\u001b[0;34m=\u001b[0m\u001b[0mna_sentinel\u001b[0m\u001b[0;34m\u001b[0m\u001b[0;34m\u001b[0m\u001b[0m\n\u001b[1;32m    625\u001b[0m             )\n",
      "\u001b[0;32m~/opt/anaconda3/envs/ironhackenv/lib/python3.8/site-packages/pandas/core/algorithms.py\u001b[0m in \u001b[0;36mfactorize\u001b[0;34m(values, sort, na_sentinel, size_hint)\u001b[0m\n\u001b[1;32m    725\u001b[0m \u001b[0;34m\u001b[0m\u001b[0m\n\u001b[1;32m    726\u001b[0m     \u001b[0;32mif\u001b[0m \u001b[0msort\u001b[0m \u001b[0;32mand\u001b[0m \u001b[0mlen\u001b[0m\u001b[0;34m(\u001b[0m\u001b[0muniques\u001b[0m\u001b[0;34m)\u001b[0m \u001b[0;34m>\u001b[0m \u001b[0;36m0\u001b[0m\u001b[0;34m:\u001b[0m\u001b[0;34m\u001b[0m\u001b[0;34m\u001b[0m\u001b[0m\n\u001b[0;32m--> 727\u001b[0;31m         uniques, codes = safe_sort(\n\u001b[0m\u001b[1;32m    728\u001b[0m             \u001b[0muniques\u001b[0m\u001b[0;34m,\u001b[0m \u001b[0mcodes\u001b[0m\u001b[0;34m,\u001b[0m \u001b[0mna_sentinel\u001b[0m\u001b[0;34m=\u001b[0m\u001b[0mna_sentinel\u001b[0m\u001b[0;34m,\u001b[0m \u001b[0massume_unique\u001b[0m\u001b[0;34m=\u001b[0m\u001b[0;32mTrue\u001b[0m\u001b[0;34m,\u001b[0m \u001b[0mverify\u001b[0m\u001b[0;34m=\u001b[0m\u001b[0;32mFalse\u001b[0m\u001b[0;34m\u001b[0m\u001b[0;34m\u001b[0m\u001b[0m\n\u001b[1;32m    729\u001b[0m         )\n",
      "\u001b[0;32m~/opt/anaconda3/envs/ironhackenv/lib/python3.8/site-packages/pandas/core/algorithms.py\u001b[0m in \u001b[0;36msafe_sort\u001b[0;34m(values, codes, na_sentinel, assume_unique, verify)\u001b[0m\n\u001b[1;32m   2130\u001b[0m                 \u001b[0mordered\u001b[0m \u001b[0;34m=\u001b[0m \u001b[0m_sort_tuples\u001b[0m\u001b[0;34m(\u001b[0m\u001b[0mvalues\u001b[0m\u001b[0;34m)\u001b[0m\u001b[0;34m\u001b[0m\u001b[0;34m\u001b[0m\u001b[0m\n\u001b[1;32m   2131\u001b[0m             \u001b[0;32melse\u001b[0m\u001b[0;34m:\u001b[0m\u001b[0;34m\u001b[0m\u001b[0;34m\u001b[0m\u001b[0m\n\u001b[0;32m-> 2132\u001b[0;31m                 \u001b[0mordered\u001b[0m \u001b[0;34m=\u001b[0m \u001b[0m_sort_mixed\u001b[0m\u001b[0;34m(\u001b[0m\u001b[0mvalues\u001b[0m\u001b[0;34m)\u001b[0m\u001b[0;34m\u001b[0m\u001b[0;34m\u001b[0m\u001b[0m\n\u001b[0m\u001b[1;32m   2133\u001b[0m \u001b[0;34m\u001b[0m\u001b[0m\n\u001b[1;32m   2134\u001b[0m     \u001b[0;31m# codes:\u001b[0m\u001b[0;34m\u001b[0m\u001b[0;34m\u001b[0m\u001b[0;34m\u001b[0m\u001b[0m\n",
      "\u001b[0;32m~/opt/anaconda3/envs/ironhackenv/lib/python3.8/site-packages/pandas/core/algorithms.py\u001b[0m in \u001b[0;36m_sort_mixed\u001b[0;34m(values)\u001b[0m\n\u001b[1;32m   2182\u001b[0m     \u001b[0;34m\"\"\" order ints before strings in 1d arrays, safe in py3 \"\"\"\u001b[0m\u001b[0;34m\u001b[0m\u001b[0;34m\u001b[0m\u001b[0m\n\u001b[1;32m   2183\u001b[0m     \u001b[0mstr_pos\u001b[0m \u001b[0;34m=\u001b[0m \u001b[0mnp\u001b[0m\u001b[0;34m.\u001b[0m\u001b[0marray\u001b[0m\u001b[0;34m(\u001b[0m\u001b[0;34m[\u001b[0m\u001b[0misinstance\u001b[0m\u001b[0;34m(\u001b[0m\u001b[0mx\u001b[0m\u001b[0;34m,\u001b[0m \u001b[0mstr\u001b[0m\u001b[0;34m)\u001b[0m \u001b[0;32mfor\u001b[0m \u001b[0mx\u001b[0m \u001b[0;32min\u001b[0m \u001b[0mvalues\u001b[0m\u001b[0;34m]\u001b[0m\u001b[0;34m,\u001b[0m \u001b[0mdtype\u001b[0m\u001b[0;34m=\u001b[0m\u001b[0mbool\u001b[0m\u001b[0;34m)\u001b[0m\u001b[0;34m\u001b[0m\u001b[0;34m\u001b[0m\u001b[0m\n\u001b[0;32m-> 2184\u001b[0;31m     \u001b[0mnums\u001b[0m \u001b[0;34m=\u001b[0m \u001b[0mnp\u001b[0m\u001b[0;34m.\u001b[0m\u001b[0msort\u001b[0m\u001b[0;34m(\u001b[0m\u001b[0mvalues\u001b[0m\u001b[0;34m[\u001b[0m\u001b[0;34m~\u001b[0m\u001b[0mstr_pos\u001b[0m\u001b[0;34m]\u001b[0m\u001b[0;34m)\u001b[0m\u001b[0;34m\u001b[0m\u001b[0;34m\u001b[0m\u001b[0m\n\u001b[0m\u001b[1;32m   2185\u001b[0m     \u001b[0mstrs\u001b[0m \u001b[0;34m=\u001b[0m \u001b[0mnp\u001b[0m\u001b[0;34m.\u001b[0m\u001b[0msort\u001b[0m\u001b[0;34m(\u001b[0m\u001b[0mvalues\u001b[0m\u001b[0;34m[\u001b[0m\u001b[0mstr_pos\u001b[0m\u001b[0;34m]\u001b[0m\u001b[0;34m)\u001b[0m\u001b[0;34m\u001b[0m\u001b[0;34m\u001b[0m\u001b[0m\n\u001b[1;32m   2186\u001b[0m     \u001b[0;32mreturn\u001b[0m \u001b[0mnp\u001b[0m\u001b[0;34m.\u001b[0m\u001b[0mconcatenate\u001b[0m\u001b[0;34m(\u001b[0m\u001b[0;34m[\u001b[0m\u001b[0mnums\u001b[0m\u001b[0;34m,\u001b[0m \u001b[0mnp\u001b[0m\u001b[0;34m.\u001b[0m\u001b[0masarray\u001b[0m\u001b[0;34m(\u001b[0m\u001b[0mstrs\u001b[0m\u001b[0;34m,\u001b[0m \u001b[0mdtype\u001b[0m\u001b[0;34m=\u001b[0m\u001b[0mobject\u001b[0m\u001b[0;34m)\u001b[0m\u001b[0;34m]\u001b[0m\u001b[0;34m)\u001b[0m\u001b[0;34m\u001b[0m\u001b[0;34m\u001b[0m\u001b[0m\n",
      "\u001b[0;32m<__array_function__ internals>\u001b[0m in \u001b[0;36msort\u001b[0;34m(*args, **kwargs)\u001b[0m\n",
      "\u001b[0;32m~/opt/anaconda3/envs/ironhackenv/lib/python3.8/site-packages/numpy/core/fromnumeric.py\u001b[0m in \u001b[0;36msort\u001b[0;34m(a, axis, kind, order)\u001b[0m\n\u001b[1;32m    989\u001b[0m     \u001b[0;32melse\u001b[0m\u001b[0;34m:\u001b[0m\u001b[0;34m\u001b[0m\u001b[0;34m\u001b[0m\u001b[0m\n\u001b[1;32m    990\u001b[0m         \u001b[0ma\u001b[0m \u001b[0;34m=\u001b[0m \u001b[0masanyarray\u001b[0m\u001b[0;34m(\u001b[0m\u001b[0ma\u001b[0m\u001b[0;34m)\u001b[0m\u001b[0;34m.\u001b[0m\u001b[0mcopy\u001b[0m\u001b[0;34m(\u001b[0m\u001b[0morder\u001b[0m\u001b[0;34m=\u001b[0m\u001b[0;34m\"K\"\u001b[0m\u001b[0;34m)\u001b[0m\u001b[0;34m\u001b[0m\u001b[0;34m\u001b[0m\u001b[0m\n\u001b[0;32m--> 991\u001b[0;31m     \u001b[0ma\u001b[0m\u001b[0;34m.\u001b[0m\u001b[0msort\u001b[0m\u001b[0;34m(\u001b[0m\u001b[0maxis\u001b[0m\u001b[0;34m=\u001b[0m\u001b[0maxis\u001b[0m\u001b[0;34m,\u001b[0m \u001b[0mkind\u001b[0m\u001b[0;34m=\u001b[0m\u001b[0mkind\u001b[0m\u001b[0;34m,\u001b[0m \u001b[0morder\u001b[0m\u001b[0;34m=\u001b[0m\u001b[0morder\u001b[0m\u001b[0;34m)\u001b[0m\u001b[0;34m\u001b[0m\u001b[0;34m\u001b[0m\u001b[0m\n\u001b[0m\u001b[1;32m    992\u001b[0m     \u001b[0;32mreturn\u001b[0m \u001b[0ma\u001b[0m\u001b[0;34m\u001b[0m\u001b[0;34m\u001b[0m\u001b[0m\n\u001b[1;32m    993\u001b[0m \u001b[0;34m\u001b[0m\u001b[0m\n",
      "\u001b[0;31mTypeError\u001b[0m: '<' not supported between instances of 'float' and 'method'"
     ]
    },
    {
     "data": {
      "image/png": "[encoded data removed]",
      "text/plain": [
       "<Figure size 432x288 with 1 Axes>"
      ]
     },
     "metadata": {
      "needs_background": "light"
     },
     "output_type": "display_data"
    },
    {
     "data": {
      "image/png": "[encoded data removed]",
      "text/plain": [
       "<Figure size 432x288 with 1 Axes>"
      ]
     },
     "metadata": {
      "needs_background": "light"
     },
     "output_type": "display_data"
    },
    {
     "data": {
      "image/png": "[encoded data removed]",
      "text/plain": [
       "<Figure size 432x288 with 1 Axes>"
      ]
     },
     "metadata": {
      "needs_background": "light"
     },
     "output_type": "display_data"
    },
    {
     "data": {
      "image/png": "[encoded data removed]",
      "text/plain": [
       "<Figure size 432x288 with 1 Axes>"
      ]
     },
     "metadata": {
      "needs_background": "light"
     },
     "output_type": "display_data"
    },
    {
     "data": {
      "image/png": "[encoded data removed]",
      "text/plain": [
       "<Figure size 432x288 with 1 Axes>"
      ]
     },
     "metadata": {
      "needs_background": "light"
     },
     "output_type": "display_data"
    },
    {
     "data": {
      "image/png": "[encoded data removed]",
      "text/plain": [
       "<Figure size 432x288 with 1 Axes>"
      ]
     },
     "metadata": {
      "needs_background": "light"
     },
     "output_type": "display_data"
    },
    {
     "data": {
      "image/png": "[encoded data removed]",
      "text/plain": [
       "<Figure size 432x288 with 1 Axes>"
      ]
     },
     "metadata": {
      "needs_background": "light"
     },
     "output_type": "display_data"
    },
    {
     "data": {
      "text/plain": [
       "<Figure size 432x288 with 0 Axes>"
      ]
     },
     "metadata": {},
     "output_type": "display_data"
    }
   ],
   "source": [
    "# checking all the categorical columns\n",
    "cols_cat = list(df.select_dtypes(include=['object']).columns)\n",
    "\n",
    "for col in cols_cat:\n",
    "    print(\"Frequency analysis of column: \",col)\n",
    "    my_data = df[col].value_counts().reset_index()\n",
    "    ax = sns.barplot(x=col, y=\"index\", data = my_data).set_title(col.upper())\n",
    "    plt.figure()"
   ]
  },
  {
   "cell_type": "code",
   "execution_count": null,
   "id": "legitimate-circulation",
   "metadata": {},
   "outputs": [],
   "source": []
  },
  {
   "cell_type": "code",
   "execution_count": 62,
   "id": "applicable-resistance",
   "metadata": {},
   "outputs": [],
   "source": [
    "# locate the target column in the last position\n",
    "cols = list(df.columns)\n",
    "cols = cols[1:]+[cols[0]]\n",
    "df = df[cols]\n"
   ]
  },
  {
   "cell_type": "code",
   "execution_count": 63,
   "id": "innocent-ridge",
   "metadata": {},
   "outputs": [
    {
     "data": {
      "text/html": [
       "<div>\n",
       "<style scoped>\n",
       "    .dataframe tbody tr th:only-of-type {\n",
       "        vertical-align: middle;\n",
       "    }\n",
       "\n",
       "    .dataframe tbody tr th {\n",
       "        vertical-align: top;\n",
       "    }\n",
       "\n",
       "    .dataframe thead th {\n",
       "        text-align: right;\n",
       "    }\n",
       "</style>\n",
       "<table border=\"1\" class=\"dataframe\">\n",
       "  <thead>\n",
       "    <tr style=\"text-align: right;\">\n",
       "      <th></th>\n",
       "      <th>reward</th>\n",
       "      <th>mailer_type</th>\n",
       "      <th>income_level</th>\n",
       "      <th>bank_accounts_open</th>\n",
       "      <th>overdraft_protection</th>\n",
       "      <th>credit_rating</th>\n",
       "      <th>credit_cards_held</th>\n",
       "      <th>homes_owned</th>\n",
       "      <th>household_size</th>\n",
       "      <th>own_your_home</th>\n",
       "      <th>average_balance</th>\n",
       "      <th>q1_balance</th>\n",
       "      <th>q2_balance</th>\n",
       "      <th>q3_balance</th>\n",
       "      <th>q4_balance</th>\n",
       "      <th>offer_accepted</th>\n",
       "    </tr>\n",
       "  </thead>\n",
       "  <tbody>\n",
       "    <tr>\n",
       "      <th>0</th>\n",
       "      <td>Air Miles</td>\n",
       "      <td>Letter</td>\n",
       "      <td>High</td>\n",
       "      <td>1</td>\n",
       "      <td>No</td>\n",
       "      <td>High</td>\n",
       "      <td>2</td>\n",
       "      <td>1</td>\n",
       "      <td>4</td>\n",
       "      <td>No</td>\n",
       "      <td>1160.75</td>\n",
       "      <td>1669.0</td>\n",
       "      <td>877.0</td>\n",
       "      <td>1095.0</td>\n",
       "      <td>1002.0</td>\n",
       "      <td>No</td>\n",
       "    </tr>\n",
       "    <tr>\n",
       "      <th>1</th>\n",
       "      <td>Air Miles</td>\n",
       "      <td>Letter</td>\n",
       "      <td>Medium</td>\n",
       "      <td>1</td>\n",
       "      <td>No</td>\n",
       "      <td>Medium</td>\n",
       "      <td>2</td>\n",
       "      <td>2</td>\n",
       "      <td>5</td>\n",
       "      <td>Yes</td>\n",
       "      <td>147.25</td>\n",
       "      <td>39.0</td>\n",
       "      <td>106.0</td>\n",
       "      <td>78.0</td>\n",
       "      <td>366.0</td>\n",
       "      <td>No</td>\n",
       "    </tr>\n",
       "    <tr>\n",
       "      <th>2</th>\n",
       "      <td>Air Miles</td>\n",
       "      <td>Postcard</td>\n",
       "      <td>High</td>\n",
       "      <td>2</td>\n",
       "      <td>No</td>\n",
       "      <td>Medium</td>\n",
       "      <td>2</td>\n",
       "      <td>1</td>\n",
       "      <td>2</td>\n",
       "      <td>Yes</td>\n",
       "      <td>276.5</td>\n",
       "      <td>367.0</td>\n",
       "      <td>352.0</td>\n",
       "      <td>145.0</td>\n",
       "      <td>242.0</td>\n",
       "      <td>No</td>\n",
       "    </tr>\n",
       "    <tr>\n",
       "      <th>3</th>\n",
       "      <td>Air Miles</td>\n",
       "      <td>Letter</td>\n",
       "      <td>Medium</td>\n",
       "      <td>2</td>\n",
       "      <td>No</td>\n",
       "      <td>High</td>\n",
       "      <td>1</td>\n",
       "      <td>1</td>\n",
       "      <td>4</td>\n",
       "      <td>No</td>\n",
       "      <td>1219.0</td>\n",
       "      <td>1578.0</td>\n",
       "      <td>1760.0</td>\n",
       "      <td>1119.0</td>\n",
       "      <td>419.0</td>\n",
       "      <td>No</td>\n",
       "    </tr>\n",
       "    <tr>\n",
       "      <th>4</th>\n",
       "      <td>Air Miles</td>\n",
       "      <td>Letter</td>\n",
       "      <td>Medium</td>\n",
       "      <td>1</td>\n",
       "      <td>No</td>\n",
       "      <td>Medium</td>\n",
       "      <td>2</td>\n",
       "      <td>1</td>\n",
       "      <td>6</td>\n",
       "      <td>Yes</td>\n",
       "      <td>1211.0</td>\n",
       "      <td>2140.0</td>\n",
       "      <td>1357.0</td>\n",
       "      <td>982.0</td>\n",
       "      <td>365.0</td>\n",
       "      <td>No</td>\n",
       "    </tr>\n",
       "  </tbody>\n",
       "</table>\n",
       "</div>"
      ],
      "text/plain": [
       "      reward mailer_type income_level  bank_accounts_open  \\\n",
       "0  Air Miles      Letter         High                   1   \n",
       "1  Air Miles      Letter       Medium                   1   \n",
       "2  Air Miles    Postcard         High                   2   \n",
       "3  Air Miles      Letter       Medium                   2   \n",
       "4  Air Miles      Letter       Medium                   1   \n",
       "\n",
       "  overdraft_protection credit_rating  credit_cards_held  homes_owned  \\\n",
       "0                   No          High                  2            1   \n",
       "1                   No        Medium                  2            2   \n",
       "2                   No        Medium                  2            1   \n",
       "3                   No          High                  1            1   \n",
       "4                   No        Medium                  2            1   \n",
       "\n",
       "   household_size own_your_home average_balance q1_balance q2_balance  \\\n",
       "0               4            No         1160.75     1669.0      877.0   \n",
       "1               5           Yes          147.25       39.0      106.0   \n",
       "2               2           Yes           276.5      367.0      352.0   \n",
       "3               4            No          1219.0     1578.0     1760.0   \n",
       "4               6           Yes          1211.0     2140.0     1357.0   \n",
       "\n",
       "  q3_balance q4_balance offer_accepted  \n",
       "0     1095.0     1002.0             No  \n",
       "1       78.0      366.0             No  \n",
       "2      145.0      242.0             No  \n",
       "3     1119.0      419.0             No  \n",
       "4      982.0      365.0             No  "
      ]
     },
     "execution_count": 63,
     "metadata": {},
     "output_type": "execute_result"
    }
   ],
   "source": [
    "df.head()"
   ]
  },
  {
   "cell_type": "code",
   "execution_count": 64,
   "id": "transparent-brass",
   "metadata": {},
   "outputs": [
    {
     "data": {
      "text/plain": [
       "reward                  object\n",
       "mailer_type             object\n",
       "income_level            object\n",
       "bank_accounts_open       int64\n",
       "overdraft_protection    object\n",
       "credit_rating           object\n",
       "credit_cards_held        int64\n",
       "homes_owned              int64\n",
       "household_size           int64\n",
       "own_your_home           object\n",
       "average_balance         object\n",
       "q1_balance              object\n",
       "q2_balance              object\n",
       "q3_balance              object\n",
       "q4_balance              object\n",
       "offer_accepted          object\n",
       "dtype: object"
      ]
     },
     "execution_count": 64,
     "metadata": {},
     "output_type": "execute_result"
    }
   ],
   "source": [
    "df.dtypes"
   ]
  },
  {
   "cell_type": "code",
   "execution_count": null,
   "id": "organizational-glucose",
   "metadata": {},
   "outputs": [],
   "source": []
  },
  {
   "cell_type": "code",
   "execution_count": 65,
   "id": "bacterial-concern",
   "metadata": {},
   "outputs": [],
   "source": [
    "# convert balances to float\n",
    "\n",
    "df['average_balance'] = pd.to_numeric(df.average_balance, errors='coerce')\n",
    "df['q1_balance'] = pd.to_numeric(df.q1_balance, errors='coerce')\n",
    "df['q2_balance'] = pd.to_numeric(df.q2_balance, errors='coerce')\n",
    "df['q3_balance'] = pd.to_numeric(df.q3_balance, errors='coerce')\n",
    "df['q4_balance'] = pd.to_numeric(df.q4_balance, errors='coerce')\n"
   ]
  },
  {
   "cell_type": "code",
   "execution_count": 66,
   "id": "alternate-terrace",
   "metadata": {},
   "outputs": [
    {
     "data": {
      "text/plain": [
       "reward                   object\n",
       "mailer_type              object\n",
       "income_level             object\n",
       "bank_accounts_open        int64\n",
       "overdraft_protection     object\n",
       "credit_rating            object\n",
       "credit_cards_held         int64\n",
       "homes_owned               int64\n",
       "household_size            int64\n",
       "own_your_home            object\n",
       "average_balance         float64\n",
       "q1_balance              float64\n",
       "q2_balance              float64\n",
       "q3_balance              float64\n",
       "q4_balance              float64\n",
       "offer_accepted           object\n",
       "dtype: object"
      ]
     },
     "execution_count": 66,
     "metadata": {},
     "output_type": "execute_result"
    }
   ],
   "source": [
    "df.dtypes"
   ]
  },
  {
   "cell_type": "markdown",
   "id": "romance-philip",
   "metadata": {},
   "source": [
    "### Outliers"
   ]
  },
  {
   "cell_type": "markdown",
   "id": "driven-method",
   "metadata": {},
   "source": [
    "### Box Plots\n",
    "A boxplot is a standardized way of displaying the distribution of data based on a five number summary (“minimum”, first quartile (Q1), median, third quartile (Q3), and “maximum”). It can tell you about your outliers and what their values are. It can also tell you if your data is symmetrical, how tightly your data is grouped, and if and how your data is skewed."
   ]
  },
  {
   "cell_type": "code",
   "execution_count": 67,
   "id": "coated-brisbane",
   "metadata": {},
   "outputs": [
    {
     "data": {
      "text/plain": [
       "<AxesSubplot:>"
      ]
     },
     "execution_count": 67,
     "metadata": {},
     "output_type": "execute_result"
    },
    {
     "data": {
      "image/png": "[encoded data removed]",
      "text/plain": [
       "<Figure size 1080x576 with 1 Axes>"
      ]
     },
     "metadata": {
      "needs_background": "light"
     },
     "output_type": "display_data"
    }
   ],
   "source": [
    "# check outliers\n",
    "df.boxplot(grid=False, figsize= (15,8))"
   ]
  },
  {
   "cell_type": "markdown",
   "id": "tropical-transmission",
   "metadata": {},
   "source": [
    "##### Density Plots\n",
    "\n",
    "A density plot is a representation of the distribution of a numeric variable. It uses a kernel density estimate to show the probability density function of the variable. It is a smoothed version of the histogram and is used in the same concept.\n",
    "\n",
    "Kernel Density Estimation(KDE): Kernel density estimation is a really useful statistical tool with an intimidating name. Often shortened to KDE, it’s a technique that let’s you create a smooth curve given a set of data. Kernel Density Estimation (KDE) is a way to estimate the probability density function of a continuous random variable. It is used for non-parametric analysis."
   ]
  },
  {
   "cell_type": "code",
   "execution_count": 71,
   "id": "proof-routine",
   "metadata": {},
   "outputs": [
    {
     "data": {
      "image/png": "[encoded data removed]",
      "text/plain": [
       "<Figure size 1080x576 with 1 Axes>"
      ]
     },
     "metadata": {
      "needs_background": "light"
     },
     "output_type": "display_data"
    }
   ],
   "source": [
    "# # replace yes by 1 and no by 0\n",
    "# df = df.replace({'offer_accepted': {'Yes': 1,'No': 0}})\n",
    "\n",
    "\n",
    "plt.figure(figsize=(15,8))\n",
    "sns.kdeplot(df[\"reward\"][df.offer_accepted  == 1], shade=True)\n",
    "sns.kdeplot(df[\"reward\"][df.offer_accepted  == 0], shade=True)\n",
    "plt.legend(['offer_accepted ', 'offer_rejected'])\n",
    "plt.title('Density Plot of reward for accepted and rejected offer')\n",
    "# limit x axis to zoom on most information. there are a few outliers in fare. \n",
    "# plt.xlim(-20,200)\n",
    "plt.show()"
   ]
  },
  {
   "cell_type": "code",
   "execution_count": 69,
   "id": "substantial-digit",
   "metadata": {},
   "outputs": [],
   "source": [
    "# plt.figure(figsize=(15,8))\n",
    "# sns.kdeplot(df[\"Fare\"][df.Survived == 1], shade=True)\n",
    "# sns.kdeplot(df[\"Fare\"][df.Survived == 0], shade=True)\n",
    "# plt.legend(['Survived', 'Died'])\n",
    "# plt.title('Density Plot of Fare for Surviving Population and Deceased Population')\n",
    "# # limit x axis to zoom on most information. there are a few outliers in fare. \n",
    "# plt.xlim(-20,200)\n",
    "# plt.show()"
   ]
  },
  {
   "cell_type": "code",
   "execution_count": 70,
   "id": "presidential-heath",
   "metadata": {},
   "outputs": [],
   "source": [
    "# plt.figure(figsize=(15,8))\n",
    "# sns.kdeplot(df[\"reward\"][df.offer_accepted == 'Yes'], shade=True)\n",
    "# sns.kdeplot(df[\"reward\"][df.offer_accepted == 'No'], shade=True)\n",
    "# plt.legend(['Accepted', 'Declined'])\n",
    "# plt.title('Density Plot - reward for accepting and declining offer')\n",
    "# plt.show()"
   ]
  },
  {
   "cell_type": "markdown",
   "id": "legendary-snapshot",
   "metadata": {},
   "source": [
    "### pre processing \n"
   ]
  },
  {
   "cell_type": "code",
   "execution_count": null,
   "id": "right-speaker",
   "metadata": {},
   "outputs": [],
   "source": []
  },
  {
   "cell_type": "code",
   "execution_count": null,
   "id": "eastern-attack",
   "metadata": {},
   "outputs": [],
   "source": [
    "cat.columns"
   ]
  },
  {
   "cell_type": "code",
   "execution_count": null,
   "id": "ranging-image",
   "metadata": {},
   "outputs": [],
   "source": [
    "categorical = pd.get_dummies(cat, columns =['reward', 'mailer_type', 'income_level',\n",
    "       'overdraft_protection', 'credit_rating', 'own_your_home',\n",
    "       'average_balance', 'q1_balance', 'q2_balance', 'q3_balance',\n",
    "       'q4_balance', 'offer_accepted'],drop_first=True)\n",
    "categorical.head()\n"
   ]
  },
  {
   "cell_type": "code",
   "execution_count": null,
   "id": "continental-crown",
   "metadata": {
    "scrolled": false
   },
   "outputs": [],
   "source": [
    "categorical['offer_accepted_Yes'].value_counts()"
   ]
  },
  {
   "cell_type": "code",
   "execution_count": null,
   "id": "guilty-ebony",
   "metadata": {},
   "outputs": [],
   "source": [
    "pct_offer_accepted = 1023/18000\n",
    "pct_offer_accepted"
   ]
  },
  {
   "cell_type": "code",
   "execution_count": null,
   "id": "damaged-greene",
   "metadata": {},
   "outputs": [],
   "source": []
  },
  {
   "cell_type": "code",
   "execution_count": null,
   "id": "brutal-married",
   "metadata": {},
   "outputs": [],
   "source": [
    "cat_encoded = pd.get_dummies(categoricals, drop_first=True)\n",
    "cat_encoded.head()"
   ]
  },
  {
   "cell_type": "code",
   "execution_count": null,
   "id": "proved-parade",
   "metadata": {},
   "outputs": [],
   "source": []
  },
  {
   "cell_type": "code",
   "execution_count": null,
   "id": "plastic-canal",
   "metadata": {},
   "outputs": [],
   "source": []
  },
  {
   "cell_type": "code",
   "execution_count": null,
   "id": "exciting-queensland",
   "metadata": {},
   "outputs": [],
   "source": []
  },
  {
   "cell_type": "code",
   "execution_count": null,
   "id": "technological-republican",
   "metadata": {},
   "outputs": [],
   "source": []
  },
  {
   "cell_type": "code",
   "execution_count": null,
   "id": "faced-designation",
   "metadata": {},
   "outputs": [],
   "source": []
  },
  {
   "cell_type": "code",
   "execution_count": null,
   "id": "statewide-transportation",
   "metadata": {},
   "outputs": [],
   "source": [
    "References:\n",
    "- women who code: munibootcamp of data science\n",
    "    "
   ]
  }
 ],
 "metadata": {
  "kernelspec": {
   "display_name": "Python 3",
   "language": "python",
   "name": "python3"
  },
  "language_info": {
   "codemirror_mode": {
    "name": "ipython",
    "version": 3
   },
   "file_extension": ".py",
   "mimetype": "text/x-python",
   "name": "python",
   "nbconvert_exporter": "python",
   "pygments_lexer": "ipython3",
   "version": "3.8.8"
  }
 },
 "nbformat": 4,
 "nbformat_minor": 5
}
