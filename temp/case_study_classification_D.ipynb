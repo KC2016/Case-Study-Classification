{
 "cells": [
  {
   "cell_type": "markdown",
   "metadata": {},
   "source": [
    "### Table of Contents\n",
    "\n",
    "* [Model](#model)\n",
    "* [Visualising accuracy - ROC / AUC](#rocauc)\n",
    "* [Data imbalanced -  SMOTE (oversample the minority class of the target label)](#smote)"
   ]
  },
  {
   "cell_type": "markdown",
   "metadata": {},
   "source": [
    "## Model <a class=\"anchor\" id=\"model\"></a>"
   ]
  },
  {
   "cell_type": "code",
   "execution_count": 1,
   "metadata": {},
   "outputs": [],
   "source": [
    "# import libraries\n",
    "import pandas as pd \n",
    "import seaborn as sns \n",
    "import matplotlib.pyplot as plt\n",
    "import numpy as np \n",
    "from scipy import stats"
   ]
  },
  {
   "cell_type": "code",
   "execution_count": 2,
   "metadata": {},
   "outputs": [],
   "source": [
    "df_original = pd.read_excel(r'creditcardmarketing.xlsx')"
   ]
  },
  {
   "cell_type": "code",
   "execution_count": 3,
   "metadata": {},
   "outputs": [],
   "source": [
    "df = df_original"
   ]
  },
  {
   "cell_type": "code",
   "execution_count": 4,
   "metadata": {},
   "outputs": [],
   "source": [
    "df.columns = df.columns.str.replace(' ', '_')\n",
    "df.columns= df.columns.str.lower()\n",
    "df.columns= df.columns.str.replace('#_', '')\n"
   ]
  },
  {
   "cell_type": "code",
   "execution_count": 5,
   "metadata": {},
   "outputs": [],
   "source": [
    "col_miss_values= ['q1_balance', 'q2_balance', 'q3_balance', 'q4_balance']\n",
    "\n",
    "mean_average_balance = df['q1_balance'].mean()\n",
    "df['q1_balance'] = df['q1_balance'].fillna(mean_average_balance)\n",
    "df['q1_balance'] = pd.to_numeric(df['q1_balance'], errors = 'coerce')\n",
    "\n",
    "mean_q2_balance = df['q2_balance'].mean()\n",
    "df['q2_balance'] = df['q2_balance'].fillna(mean_q2_balance)\n",
    "df['q2_balance'] = pd.to_numeric(df['q2_balance'], errors = 'coerce')\n",
    "\n",
    "mean_q3_balance = df['q3_balance'].mean()\n",
    "df['q3_balance'] = df['q3_balance'].fillna(mean_q3_balance)\n",
    "df['q3_balance'] = pd.to_numeric(df['q3_balance'], errors = 'coerce')\n",
    "\n",
    "mean_q4_balance = df['q4_balance'].mean()\n",
    "df['q4_balance'] = df['q4_balance'].fillna(mean_q4_balance)\n",
    "df['q4_balance'] = pd.to_numeric(df['q4_balance'], errors = 'coerce')\n"
   ]
  },
  {
   "cell_type": "code",
   "execution_count": 6,
   "metadata": {},
   "outputs": [],
   "source": [
    "df=df.drop(['customer_number','average_balance'], axis=1)"
   ]
  },
  {
   "cell_type": "code",
   "execution_count": 7,
   "metadata": {},
   "outputs": [],
   "source": [
    "df = df.groupby(['offer_accepted', 'reward', 'mailer_type',\n",
    "       'income_level', 'bank_accounts_open', 'overdraft_protection',\n",
    "       'credit_rating', 'credit_cards_held', 'homes_owned', \n",
    "       'own_your_home', 'q1_balance', 'q2_balance',\n",
    "       'q3_balance', 'q4_balance'])['household_size'].sum().reset_index()"
   ]
  },
  {
   "cell_type": "code",
   "execution_count": 8,
   "metadata": {},
   "outputs": [],
   "source": [
    "df['household_size'] = pd.qcut(df['household_size'],duplicates='drop', q=4)"
   ]
  },
  {
   "cell_type": "code",
   "execution_count": 9,
   "metadata": {},
   "outputs": [
    {
     "name": "stdout",
     "output_type": "stream",
     "text": [
      "Q1 of the column  q1_balance : 393.0\n",
      "Q3 of the column  q1_balance : 1520.25\n",
      "IRQ of the column  q1_balance : 1127.25\n",
      "lower_whisker:  -1297.875 , upper whisker:  3211.125\n",
      "Q1 of the column  q2_balance : 664.0\n",
      "Q3 of the column  q2_balance : 1342.0\n",
      "IRQ of the column  q2_balance : 678.0\n",
      "lower_whisker:  -353.0 , upper whisker:  2359.0\n",
      "Q1 of the column  q3_balance : 633.0\n",
      "Q3 of the column  q3_balance : 1461.0\n",
      "IRQ of the column  q3_balance : 828.0\n",
      "lower_whisker:  -609.0 , upper whisker:  2703.0\n",
      "Q1 of the column  q4_balance : 363.0\n",
      "Q3 of the column  q4_balance : 1210.0\n",
      "IRQ of the column  q4_balance : 847.0\n",
      "lower_whisker:  -907.5 , upper whisker:  2480.5\n"
     ]
    }
   ],
   "source": [
    "cols_outliers = ['q1_balance' , 'q2_balance', 'q3_balance', 'q4_balance']\n",
    "\n",
    "for col in cols_outliers:\n",
    "    Q1 = df[col].quantile(0.25)\n",
    "    Q3 = df[col].quantile(0.75)\n",
    "    IQR = Q3 - Q1\n",
    "    print('Q1 of the column ', col,':', Q1)\n",
    "    print('Q3 of the column ', col,':', Q3)\n",
    "    print('IRQ of the column ', col,':', IQR)\n",
    "    Lower_Whisker = Q1 - 1.5 * IQR\n",
    "    Upper_Whisker = Q3 + 1.5 * IQR\n",
    "    print('lower_whisker: ', Lower_Whisker, ',' , 'upper whisker: ', Upper_Whisker)\n",
    "    #  Outlier Treatment \n",
    "    df = df[df[col]< Upper_Whisker]\n",
    "    df = df[df[col]> Lower_Whisker]\n",
    "    \n"
   ]
  },
  {
   "cell_type": "code",
   "execution_count": 10,
   "metadata": {},
   "outputs": [],
   "source": [
    "cat = df.select_dtypes(include = np.object)"
   ]
  },
  {
   "cell_type": "code",
   "execution_count": 11,
   "metadata": {},
   "outputs": [],
   "source": [
    "cols = list(df.columns)\n",
    "cols = cols[1:]+[cols[0]]\n",
    "df = df[cols]"
   ]
  },
  {
   "cell_type": "code",
   "execution_count": 12,
   "metadata": {},
   "outputs": [],
   "source": [
    "df['q1_balance'] = pd.to_numeric(df.q1_balance, errors='coerce')\n",
    "df['q2_balance'] = pd.to_numeric(df.q2_balance, errors='coerce')\n",
    "df['q3_balance'] = pd.to_numeric(df.q3_balance, errors='coerce')\n",
    "df['q4_balance'] = pd.to_numeric(df.q4_balance, errors='coerce')\n"
   ]
  },
  {
   "cell_type": "code",
   "execution_count": 13,
   "metadata": {},
   "outputs": [],
   "source": [
    "numerics = ['int64', 'float64']\n",
    "df_num = df.select_dtypes(include=numerics)"
   ]
  },
  {
   "cell_type": "code",
   "execution_count": 14,
   "metadata": {},
   "outputs": [],
   "source": [
    "df = df.reset_index(drop = True)"
   ]
  },
  {
   "cell_type": "code",
   "execution_count": 15,
   "metadata": {},
   "outputs": [],
   "source": [
    "cat = df.select_dtypes(exclude = ['float64'])"
   ]
  },
  {
   "cell_type": "code",
   "execution_count": 16,
   "metadata": {},
   "outputs": [],
   "source": [
    "categorical = pd.get_dummies(cat, columns =['reward',\n",
    " 'mailer_type',\n",
    " 'income_level',\n",
    " 'bank_accounts_open',\n",
    " 'overdraft_protection',\n",
    " 'credit_rating',\n",
    " 'credit_cards_held',\n",
    " 'homes_owned',\n",
    " 'household_size',\n",
    " 'own_your_home',\n",
    " 'offer_accepted'],drop_first=True)"
   ]
  },
  {
   "cell_type": "code",
   "execution_count": 17,
   "metadata": {},
   "outputs": [],
   "source": [
    "from sklearn.preprocessing import Normalizer"
   ]
  },
  {
   "cell_type": "code",
   "execution_count": 18,
   "metadata": {},
   "outputs": [],
   "source": [
    "X = df_num.drop(['bank_accounts_open', 'credit_cards_held', 'homes_owned'], axis=1)\n",
    "transformer = Normalizer().fit(X)\n",
    "X_normalised= transformer.transform(X)\n",
    "X_normalised = pd.DataFrame(X_normalised)"
   ]
  },
  {
   "cell_type": "code",
   "execution_count": 19,
   "metadata": {},
   "outputs": [],
   "source": [
    "y= categorical['offer_accepted_Yes']\n",
    "categorical=categorical.drop(['offer_accepted_Yes'], axis=1)\n"
   ]
  },
  {
   "cell_type": "code",
   "execution_count": 20,
   "metadata": {},
   "outputs": [],
   "source": [
    "X = np.concatenate((X_normalised, categorical),axis=1)\n",
    "\n"
   ]
  },
  {
   "cell_type": "code",
   "execution_count": 21,
   "metadata": {},
   "outputs": [],
   "source": [
    "from sklearn.linear_model import LogisticRegression"
   ]
  },
  {
   "cell_type": "code",
   "execution_count": 22,
   "metadata": {},
   "outputs": [],
   "source": [
    "from sklearn.model_selection import train_test_split\n",
    "\n",
    "X_train, X_test, y_train, y_test =train_test_split(X, y, test_size= 0.4, random_state=40)"
   ]
  },
  {
   "cell_type": "code",
   "execution_count": 23,
   "metadata": {},
   "outputs": [],
   "source": [
    "classification = LogisticRegression(random_state=0, solver='lbfgs',max_iter=400,\n",
    "                  multi_class='ovr').fit(X_train, y_train)"
   ]
  },
  {
   "cell_type": "code",
   "execution_count": 24,
   "metadata": {},
   "outputs": [],
   "source": [
    "from sklearn.metrics import accuracy_score \n",
    "predictions = classification.predict(X_test)"
   ]
  },
  {
   "cell_type": "code",
   "execution_count": 25,
   "metadata": {},
   "outputs": [
    {
     "data": {
      "text/plain": [
       "array([0, 0, 0, ..., 0, 0, 0], dtype=uint8)"
      ]
     },
     "execution_count": 25,
     "metadata": {},
     "output_type": "execute_result"
    }
   ],
   "source": [
    "predictions"
   ]
  },
  {
   "cell_type": "code",
   "execution_count": 26,
   "metadata": {},
   "outputs": [
    {
     "data": {
      "text/plain": [
       "0.9460811561978877"
      ]
     },
     "execution_count": 26,
     "metadata": {},
     "output_type": "execute_result"
    }
   ],
   "source": [
    "accuracy_score(y_test, predictions)"
   ]
  },
  {
   "cell_type": "markdown",
   "metadata": {},
   "source": [
    "### Visualising accuracy - ROC / AUC  <a class=\"anchor\" id=\"rocauc\"></a>"
   ]
  },
  {
   "cell_type": "code",
   "execution_count": 27,
   "metadata": {},
   "outputs": [
    {
     "name": "stdout",
     "output_type": "stream",
     "text": [
      "0.7472439943305026\n"
     ]
    }
   ],
   "source": [
    "import sklearn.metrics as metrics \n",
    "probs = classification.predict_proba(X_test)\n",
    "preds =probs[:,1]\n",
    "fpr, tpr, threshold = metrics.roc_curve(y_test, preds)\n",
    "roc_auc = metrics.auc(fpr, tpr)\n",
    "print(roc_auc)"
   ]
  },
  {
   "cell_type": "code",
   "execution_count": 28,
   "metadata": {},
   "outputs": [],
   "source": [
    "#definitions \n",
    "# tpr = true positive rate \n",
    "# fpr = false positive rate"
   ]
  },
  {
   "cell_type": "code",
   "execution_count": 29,
   "metadata": {},
   "outputs": [
    {
     "data": {
      "image/png": "[encoded data removed]",
      "text/plain": [
       "<Figure size 432x288 with 1 Axes>"
      ]
     },
     "metadata": {
      "needs_background": "light"
     },
     "output_type": "display_data"
    }
   ],
   "source": [
    "# method to plot AUC visually \n",
    "plt.title('Receiver Operating Characteristic')\n",
    "plt.plot(fpr, tpr, 'b', label = 'AUC = %0.2f' % roc_auc)\n",
    "plt.legend(loc = 'lower right')\n",
    "plt.plot([0, 1], [0, 1],'r--')\n",
    "plt.xlim([0, 1])\n",
    "plt.ylim([0, 1])\n",
    "plt.ylabel('True Positive Rate')\n",
    "plt.xlabel('False Positive Rate')\n",
    "plt.show()"
   ]
  },
  {
   "cell_type": "code",
   "execution_count": 30,
   "metadata": {},
   "outputs": [
    {
     "data": {
      "image/png": "[encoded data removed]",
      "text/plain": [
       "<Figure size 432x288 with 2 Axes>"
      ]
     },
     "metadata": {
      "needs_background": "light"
     },
     "output_type": "display_data"
    }
   ],
   "source": [
    "# confusion matrix \n",
    "\n",
    "from sklearn.metrics import confusion_matrix \n",
    "from sklearn.metrics import plot_confusion_matrix\n",
    "\n",
    "accuracy_score(y_test,predictions)\n",
    "confusion_matrix(y_test,predictions)\n",
    "plot_confusion_matrix(classification, X_test, y_test)\n",
    "plt.show()\n"
   ]
  },
  {
   "cell_type": "markdown",
   "metadata": {},
   "source": [
    "### Data imbalanced -  SMOTE (oversample the minority class of the target label) <a class=\"anchor\" id=\"smote\"></a>"
   ]
  },
  {
   "cell_type": "code",
   "execution_count": 31,
   "metadata": {},
   "outputs": [],
   "source": [
    "from imblearn.over_sampling import SMOTE"
   ]
  },
  {
   "cell_type": "code",
   "execution_count": 32,
   "metadata": {},
   "outputs": [],
   "source": [
    "smote = SMOTE()\n"
   ]
  },
  {
   "cell_type": "code",
   "execution_count": 33,
   "metadata": {},
   "outputs": [
    {
     "data": {
      "text/plain": [
       "1    16967\n",
       "0    16967\n",
       "Name: offer_accepted_Yes, dtype: int64"
      ]
     },
     "execution_count": 33,
     "metadata": {},
     "output_type": "execute_result"
    }
   ],
   "source": [
    "X_sm, y_sm = smote.fit_resample(X, y)\n",
    "y_sm.value_counts()"
   ]
  },
  {
   "cell_type": "code",
   "execution_count": 34,
   "metadata": {},
   "outputs": [],
   "source": [
    "X_train, X_test, y_train, y_test =train_test_split(X_sm, y_sm, test_size= 0.4, random_state=40)"
   ]
  },
  {
   "cell_type": "code",
   "execution_count": 35,
   "metadata": {},
   "outputs": [],
   "source": [
    "# apply model It2 \n",
    "classification = LogisticRegression(random_state=0, solver='lbfgs',max_iter=400,\n",
    "                  multi_class='ovr').fit(X_train, y_train)"
   ]
  },
  {
   "cell_type": "code",
   "execution_count": 36,
   "metadata": {},
   "outputs": [
    {
     "data": {
      "text/plain": [
       "0.7230735229114483"
      ]
     },
     "execution_count": 36,
     "metadata": {},
     "output_type": "execute_result"
    }
   ],
   "source": [
    "#accuracy assessment It2\n",
    "predictions = classification.predict(X_test)\n",
    "accuracy_score(y_test, predictions)"
   ]
  },
  {
   "cell_type": "code",
   "execution_count": 37,
   "metadata": {},
   "outputs": [
    {
     "data": {
      "image/png": "[encoded data removed]",
      "text/plain": [
       "<Figure size 432x288 with 2 Axes>"
      ]
     },
     "metadata": {
      "needs_background": "light"
     },
     "output_type": "display_data"
    }
   ],
   "source": [
    "#Conf matrix It2 \n",
    "confusion_matrix(y_test,predictions)\n",
    "plot_confusion_matrix(classification, X_test, y_test)\n",
    "plt.show()"
   ]
  },
  {
   "cell_type": "code",
   "execution_count": null,
   "metadata": {},
   "outputs": [],
   "source": []
  }
 ],
 "metadata": {
  "kernelspec": {
   "display_name": "Python 3",
   "language": "python",
   "name": "python3"
  },
  "language_info": {
   "codemirror_mode": {
    "name": "ipython",
    "version": 3
   },
   "file_extension": ".py",
   "mimetype": "text/x-python",
   "name": "python",
   "nbconvert_exporter": "python",
   "pygments_lexer": "ipython3",
   "version": "3.8.5"
  },
  "toc": {
   "base_numbering": 1,
   "nav_menu": {},
   "number_sections": true,
   "sideBar": false,
   "skip_h1_title": false,
   "title_cell": "Table of Contents",
   "title_sidebar": "Contents",
   "toc_cell": false,
   "toc_position": {
    "height": "789px",
    "left": "108px",
    "top": "110px",
    "width": "207.594px"
   },
   "toc_section_display": true,
   "toc_window_display": true
  }
 },
 "nbformat": 4,
 "nbformat_minor": 5
}
