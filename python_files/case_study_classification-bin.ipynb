{
 "cells": [
  {
   "cell_type": "markdown",
   "id": "documentary-calendar",
   "metadata": {},
   "source": [
    "### Table of Contents\n",
    "\n",
    "* [Case study classification project](#casestudy)\n",
    "* [EDA - exploratory data analysis - get to know the data](#eda)\n",
    "* [Get the sweet summary stats on each column to understand the distribution better](#summary)\n",
    "* [Get a  representation of the numbers](#numbersrep)\n",
    "* [Outliers](#outliers)\n",
    "* [Box Plots](#boxplots)\n",
    "* [Outliers](#outliers)\n",
    "* [Pre-processing](#preprocessing)\n",
    "* [Split off the dependant variable (label) ](#split)\n",
    "* [TT split and get model](#ttsplit)\n",
    "* [Apply model, train model](#applymoded)\n",
    "* [Evaluate accuracy and test](#evaluate)\n",
    "* [Visualising accuracy - ROC / AUC](#rocauc)\n",
    "* [Data imbalanced -  SMOTE (oversample the minority class of the target label)](#smote)\n",
    "\n"
   ]
  },
  {
   "cell_type": "markdown",
   "id": "peaceful-formula",
   "metadata": {},
   "source": [
    "## Case study classification project <a class=\"anchor\" id=\"casestudy\"></a>"
   ]
  },
  {
   "cell_type": "code",
   "execution_count": 1,
   "id": "perfect-terry",
   "metadata": {},
   "outputs": [],
   "source": [
    "# import libraries\n",
    "import pandas as pd \n",
    "import seaborn as sns \n",
    "import matplotlib.pyplot as plt\n",
    "import numpy as np \n",
    "from scipy import stats"
   ]
  },
  {
   "cell_type": "code",
   "execution_count": 4,
   "id": "invalid-sussex",
   "metadata": {},
   "outputs": [],
   "source": [
    "df_original = pd.read_excel('creditcardmarketing.xlsx')"
   ]
  },
  {
   "cell_type": "code",
   "execution_count": 5,
   "id": "attended-median",
   "metadata": {},
   "outputs": [],
   "source": [
    "# create a copy of the dataaet\n",
    "df = df_original"
   ]
  },
  {
   "cell_type": "markdown",
   "id": "brief-transportation",
   "metadata": {},
   "source": [
    "###  EDA - exploratory data analysis - get to know the data (just the needed) <a class=\"anchor\" id=\"eda\"></a>"
   ]
  },
  {
   "cell_type": "code",
   "execution_count": 6,
   "id": "liable-entrepreneur",
   "metadata": {},
   "outputs": [],
   "source": [
    "# standize the readers: replace spaces by _, put in lowercase, remove #\n",
    "df.columns = df.columns.str.replace(' ', '_')\n",
    "df.columns= df.columns.str.lower()\n",
    "df.columns= df.columns.str.replace('#_', '')\n"
   ]
  },
  {
   "cell_type": "code",
   "execution_count": 7,
   "id": "dressed-korean",
   "metadata": {},
   "outputs": [],
   "source": [
    "# fill nulls with the means\n",
    "col_miss_values= [ 'q2_balance', 'q3_balance', 'q4_balance']\n",
    "\n",
    "\n",
    "mean_q2_balance = df['q2_balance'].mean()\n",
    "df['q2_balance'] = df['q2_balance'].fillna(mean_q2_balance)\n",
    "df['q2_balance'] = pd.to_numeric(df['q2_balance'], errors = 'coerce')\n",
    "\n",
    "mean_q3_balance = df['q3_balance'].mean()\n",
    "df['q3_balance'] = df['q3_balance'].fillna(mean_q3_balance)\n",
    "df['q3_balance'] = pd.to_numeric(df['q3_balance'], errors = 'coerce')\n",
    "\n",
    "mean_q4_balance = df['q4_balance'].mean()\n",
    "df['q4_balance'] = df['q4_balance'].fillna(mean_q4_balance)\n",
    "df['q4_balance'] = pd.to_numeric(df['q4_balance'], errors = 'coerce')\n",
    "\n",
    "#df.dtypes"
   ]
  },
  {
   "cell_type": "code",
   "execution_count": 8,
   "id": "white-zoning",
   "metadata": {},
   "outputs": [
    {
     "data": {
      "text/html": [
       "<div>\n",
       "<style scoped>\n",
       "    .dataframe tbody tr th:only-of-type {\n",
       "        vertical-align: middle;\n",
       "    }\n",
       "\n",
       "    .dataframe tbody tr th {\n",
       "        vertical-align: top;\n",
       "    }\n",
       "\n",
       "    .dataframe thead th {\n",
       "        text-align: right;\n",
       "    }\n",
       "</style>\n",
       "<table border=\"1\" class=\"dataframe\">\n",
       "  <thead>\n",
       "    <tr style=\"text-align: right;\">\n",
       "      <th></th>\n",
       "      <th>offer_accepted</th>\n",
       "      <th>reward</th>\n",
       "      <th>mailer_type</th>\n",
       "      <th>income_level</th>\n",
       "      <th>bank_accounts_open</th>\n",
       "      <th>overdraft_protection</th>\n",
       "      <th>credit_rating</th>\n",
       "      <th>credit_cards_held</th>\n",
       "      <th>homes_owned</th>\n",
       "      <th>household_size</th>\n",
       "      <th>own_your_home</th>\n",
       "      <th>q2_balance</th>\n",
       "      <th>q3_balance</th>\n",
       "      <th>q4_balance</th>\n",
       "    </tr>\n",
       "  </thead>\n",
       "  <tbody>\n",
       "    <tr>\n",
       "      <th>0</th>\n",
       "      <td>No</td>\n",
       "      <td>Air Miles</td>\n",
       "      <td>Letter</td>\n",
       "      <td>High</td>\n",
       "      <td>1</td>\n",
       "      <td>No</td>\n",
       "      <td>High</td>\n",
       "      <td>2</td>\n",
       "      <td>1</td>\n",
       "      <td>4</td>\n",
       "      <td>No</td>\n",
       "      <td>877.0</td>\n",
       "      <td>1095.0</td>\n",
       "      <td>1002.0</td>\n",
       "    </tr>\n",
       "    <tr>\n",
       "      <th>1</th>\n",
       "      <td>No</td>\n",
       "      <td>Air Miles</td>\n",
       "      <td>Letter</td>\n",
       "      <td>Medium</td>\n",
       "      <td>1</td>\n",
       "      <td>No</td>\n",
       "      <td>Medium</td>\n",
       "      <td>2</td>\n",
       "      <td>2</td>\n",
       "      <td>5</td>\n",
       "      <td>Yes</td>\n",
       "      <td>106.0</td>\n",
       "      <td>78.0</td>\n",
       "      <td>366.0</td>\n",
       "    </tr>\n",
       "    <tr>\n",
       "      <th>2</th>\n",
       "      <td>No</td>\n",
       "      <td>Air Miles</td>\n",
       "      <td>Postcard</td>\n",
       "      <td>High</td>\n",
       "      <td>2</td>\n",
       "      <td>No</td>\n",
       "      <td>Medium</td>\n",
       "      <td>2</td>\n",
       "      <td>1</td>\n",
       "      <td>2</td>\n",
       "      <td>Yes</td>\n",
       "      <td>352.0</td>\n",
       "      <td>145.0</td>\n",
       "      <td>242.0</td>\n",
       "    </tr>\n",
       "    <tr>\n",
       "      <th>3</th>\n",
       "      <td>No</td>\n",
       "      <td>Air Miles</td>\n",
       "      <td>Letter</td>\n",
       "      <td>Medium</td>\n",
       "      <td>2</td>\n",
       "      <td>No</td>\n",
       "      <td>High</td>\n",
       "      <td>1</td>\n",
       "      <td>1</td>\n",
       "      <td>4</td>\n",
       "      <td>No</td>\n",
       "      <td>1760.0</td>\n",
       "      <td>1119.0</td>\n",
       "      <td>419.0</td>\n",
       "    </tr>\n",
       "    <tr>\n",
       "      <th>4</th>\n",
       "      <td>No</td>\n",
       "      <td>Air Miles</td>\n",
       "      <td>Letter</td>\n",
       "      <td>Medium</td>\n",
       "      <td>1</td>\n",
       "      <td>No</td>\n",
       "      <td>Medium</td>\n",
       "      <td>2</td>\n",
       "      <td>1</td>\n",
       "      <td>6</td>\n",
       "      <td>Yes</td>\n",
       "      <td>1357.0</td>\n",
       "      <td>982.0</td>\n",
       "      <td>365.0</td>\n",
       "    </tr>\n",
       "    <tr>\n",
       "      <th>5</th>\n",
       "      <td>No</td>\n",
       "      <td>Air Miles</td>\n",
       "      <td>Letter</td>\n",
       "      <td>Medium</td>\n",
       "      <td>1</td>\n",
       "      <td>No</td>\n",
       "      <td>High</td>\n",
       "      <td>3</td>\n",
       "      <td>1</td>\n",
       "      <td>4</td>\n",
       "      <td>No</td>\n",
       "      <td>1365.0</td>\n",
       "      <td>750.0</td>\n",
       "      <td>497.0</td>\n",
       "    </tr>\n",
       "    <tr>\n",
       "      <th>6</th>\n",
       "      <td>No</td>\n",
       "      <td>Air Miles</td>\n",
       "      <td>Letter</td>\n",
       "      <td>Medium</td>\n",
       "      <td>1</td>\n",
       "      <td>No</td>\n",
       "      <td>Medium</td>\n",
       "      <td>2</td>\n",
       "      <td>1</td>\n",
       "      <td>3</td>\n",
       "      <td>No</td>\n",
       "      <td>188.0</td>\n",
       "      <td>347.0</td>\n",
       "      <td>132.0</td>\n",
       "    </tr>\n",
       "    <tr>\n",
       "      <th>7</th>\n",
       "      <td>No</td>\n",
       "      <td>Cash Back</td>\n",
       "      <td>Postcard</td>\n",
       "      <td>Low</td>\n",
       "      <td>1</td>\n",
       "      <td>No</td>\n",
       "      <td>Medium</td>\n",
       "      <td>4</td>\n",
       "      <td>1</td>\n",
       "      <td>4</td>\n",
       "      <td>Yes</td>\n",
       "      <td>391.0</td>\n",
       "      <td>285.0</td>\n",
       "      <td>306.0</td>\n",
       "    </tr>\n",
       "    <tr>\n",
       "      <th>8</th>\n",
       "      <td>No</td>\n",
       "      <td>Air Miles</td>\n",
       "      <td>Postcard</td>\n",
       "      <td>Medium</td>\n",
       "      <td>1</td>\n",
       "      <td>No</td>\n",
       "      <td>Low</td>\n",
       "      <td>2</td>\n",
       "      <td>1</td>\n",
       "      <td>4</td>\n",
       "      <td>Yes</td>\n",
       "      <td>891.0</td>\n",
       "      <td>882.0</td>\n",
       "      <td>1353.0</td>\n",
       "    </tr>\n",
       "    <tr>\n",
       "      <th>9</th>\n",
       "      <td>No</td>\n",
       "      <td>Air Miles</td>\n",
       "      <td>Letter</td>\n",
       "      <td>High</td>\n",
       "      <td>2</td>\n",
       "      <td>No</td>\n",
       "      <td>Low</td>\n",
       "      <td>3</td>\n",
       "      <td>2</td>\n",
       "      <td>4</td>\n",
       "      <td>Yes</td>\n",
       "      <td>1454.0</td>\n",
       "      <td>514.0</td>\n",
       "      <td>115.0</td>\n",
       "    </tr>\n",
       "  </tbody>\n",
       "</table>\n",
       "</div>"
      ],
      "text/plain": [
       "  offer_accepted     reward mailer_type income_level  bank_accounts_open  \\\n",
       "0             No  Air Miles      Letter         High                   1   \n",
       "1             No  Air Miles      Letter       Medium                   1   \n",
       "2             No  Air Miles    Postcard         High                   2   \n",
       "3             No  Air Miles      Letter       Medium                   2   \n",
       "4             No  Air Miles      Letter       Medium                   1   \n",
       "5             No  Air Miles      Letter       Medium                   1   \n",
       "6             No  Air Miles      Letter       Medium                   1   \n",
       "7             No  Cash Back    Postcard          Low                   1   \n",
       "8             No  Air Miles    Postcard       Medium                   1   \n",
       "9             No  Air Miles      Letter         High                   2   \n",
       "\n",
       "  overdraft_protection credit_rating  credit_cards_held  homes_owned  \\\n",
       "0                   No          High                  2            1   \n",
       "1                   No        Medium                  2            2   \n",
       "2                   No        Medium                  2            1   \n",
       "3                   No          High                  1            1   \n",
       "4                   No        Medium                  2            1   \n",
       "5                   No          High                  3            1   \n",
       "6                   No        Medium                  2            1   \n",
       "7                   No        Medium                  4            1   \n",
       "8                   No           Low                  2            1   \n",
       "9                   No           Low                  3            2   \n",
       "\n",
       "   household_size own_your_home  q2_balance  q3_balance  q4_balance  \n",
       "0               4            No       877.0      1095.0      1002.0  \n",
       "1               5           Yes       106.0        78.0       366.0  \n",
       "2               2           Yes       352.0       145.0       242.0  \n",
       "3               4            No      1760.0      1119.0       419.0  \n",
       "4               6           Yes      1357.0       982.0       365.0  \n",
       "5               4            No      1365.0       750.0       497.0  \n",
       "6               3            No       188.0       347.0       132.0  \n",
       "7               4           Yes       391.0       285.0       306.0  \n",
       "8               4           Yes       891.0       882.0      1353.0  \n",
       "9               4           Yes      1454.0       514.0       115.0  "
      ]
     },
     "execution_count": 8,
     "metadata": {},
     "output_type": "execute_result"
    }
   ],
   "source": [
    "# check for more claning\n",
    "# df.head(20)\n",
    "# df.tail(20)\n",
    "# drop customer_number\n",
    "df=df.drop(['customer_number','average_balance','q1_balance'], axis=1)\n",
    "df.head(10)"
   ]
  },
  {
   "cell_type": "markdown",
   "id": "composed-trading",
   "metadata": {},
   "source": [
    "###  New dataframe for binning <a class=\"anchor\" id=\"eda\"></a>"
   ]
  },
  {
   "cell_type": "code",
   "execution_count": 9,
   "id": "controlling-attention",
   "metadata": {},
   "outputs": [],
   "source": [
    "df = df.groupby(['offer_accepted', 'reward', 'mailer_type',\n",
    "       'income_level', 'bank_accounts_open', 'overdraft_protection',\n",
    "       'credit_rating', 'credit_cards_held', 'homes_owned', \n",
    "       'own_your_home','q2_balance',\n",
    "       'q3_balance', 'q4_balance'])['household_size'].sum().reset_index()"
   ]
  },
  {
   "cell_type": "code",
   "execution_count": 10,
   "id": "written-pastor",
   "metadata": {},
   "outputs": [],
   "source": [
    "df['household_size'] = pd.qcut(df['household_size'],duplicates='drop', q=4)"
   ]
  },
  {
   "cell_type": "code",
   "execution_count": 11,
   "id": "beautiful-ultimate",
   "metadata": {},
   "outputs": [
    {
     "data": {
      "text/plain": [
       "[(0.999, 3.0], (3.0, 4.0], (4.0, 9.0]]\n",
       "Categories (3, interval[float64]): [(0.999, 3.0] < (3.0, 4.0] < (4.0, 9.0]]"
      ]
     },
     "execution_count": 11,
     "metadata": {},
     "output_type": "execute_result"
    }
   ],
   "source": [
    "df['household_size'].unique()"
   ]
  },
  {
   "cell_type": "code",
   "execution_count": 12,
   "id": "impossible-helen",
   "metadata": {},
   "outputs": [
    {
     "data": {
      "text/html": [
       "<div>\n",
       "<style scoped>\n",
       "    .dataframe tbody tr th:only-of-type {\n",
       "        vertical-align: middle;\n",
       "    }\n",
       "\n",
       "    .dataframe tbody tr th {\n",
       "        vertical-align: top;\n",
       "    }\n",
       "\n",
       "    .dataframe thead th {\n",
       "        text-align: right;\n",
       "    }\n",
       "</style>\n",
       "<table border=\"1\" class=\"dataframe\">\n",
       "  <thead>\n",
       "    <tr style=\"text-align: right;\">\n",
       "      <th></th>\n",
       "      <th>offer_accepted</th>\n",
       "      <th>reward</th>\n",
       "      <th>mailer_type</th>\n",
       "      <th>income_level</th>\n",
       "      <th>bank_accounts_open</th>\n",
       "      <th>overdraft_protection</th>\n",
       "      <th>credit_rating</th>\n",
       "      <th>credit_cards_held</th>\n",
       "      <th>homes_owned</th>\n",
       "      <th>own_your_home</th>\n",
       "      <th>q2_balance</th>\n",
       "      <th>q3_balance</th>\n",
       "      <th>q4_balance</th>\n",
       "      <th>household_size</th>\n",
       "    </tr>\n",
       "  </thead>\n",
       "  <tbody>\n",
       "    <tr>\n",
       "      <th>0</th>\n",
       "      <td>No</td>\n",
       "      <td>Air Miles</td>\n",
       "      <td>Letter</td>\n",
       "      <td>High</td>\n",
       "      <td>1</td>\n",
       "      <td>No</td>\n",
       "      <td>High</td>\n",
       "      <td>1</td>\n",
       "      <td>1</td>\n",
       "      <td>No</td>\n",
       "      <td>15.0</td>\n",
       "      <td>436.0</td>\n",
       "      <td>154.0</td>\n",
       "      <td>(0.999, 3.0]</td>\n",
       "    </tr>\n",
       "    <tr>\n",
       "      <th>1</th>\n",
       "      <td>No</td>\n",
       "      <td>Air Miles</td>\n",
       "      <td>Letter</td>\n",
       "      <td>High</td>\n",
       "      <td>1</td>\n",
       "      <td>No</td>\n",
       "      <td>High</td>\n",
       "      <td>1</td>\n",
       "      <td>1</td>\n",
       "      <td>No</td>\n",
       "      <td>284.0</td>\n",
       "      <td>284.0</td>\n",
       "      <td>151.0</td>\n",
       "      <td>(0.999, 3.0]</td>\n",
       "    </tr>\n",
       "    <tr>\n",
       "      <th>2</th>\n",
       "      <td>No</td>\n",
       "      <td>Air Miles</td>\n",
       "      <td>Letter</td>\n",
       "      <td>High</td>\n",
       "      <td>1</td>\n",
       "      <td>No</td>\n",
       "      <td>High</td>\n",
       "      <td>1</td>\n",
       "      <td>1</td>\n",
       "      <td>No</td>\n",
       "      <td>532.0</td>\n",
       "      <td>1211.0</td>\n",
       "      <td>1866.0</td>\n",
       "      <td>(3.0, 4.0]</td>\n",
       "    </tr>\n",
       "    <tr>\n",
       "      <th>3</th>\n",
       "      <td>No</td>\n",
       "      <td>Air Miles</td>\n",
       "      <td>Letter</td>\n",
       "      <td>High</td>\n",
       "      <td>1</td>\n",
       "      <td>No</td>\n",
       "      <td>High</td>\n",
       "      <td>1</td>\n",
       "      <td>1</td>\n",
       "      <td>No</td>\n",
       "      <td>646.0</td>\n",
       "      <td>598.0</td>\n",
       "      <td>506.0</td>\n",
       "      <td>(4.0, 9.0]</td>\n",
       "    </tr>\n",
       "    <tr>\n",
       "      <th>4</th>\n",
       "      <td>No</td>\n",
       "      <td>Air Miles</td>\n",
       "      <td>Letter</td>\n",
       "      <td>High</td>\n",
       "      <td>1</td>\n",
       "      <td>No</td>\n",
       "      <td>High</td>\n",
       "      <td>1</td>\n",
       "      <td>1</td>\n",
       "      <td>No</td>\n",
       "      <td>821.0</td>\n",
       "      <td>740.0</td>\n",
       "      <td>705.0</td>\n",
       "      <td>(3.0, 4.0]</td>\n",
       "    </tr>\n",
       "    <tr>\n",
       "      <th>...</th>\n",
       "      <td>...</td>\n",
       "      <td>...</td>\n",
       "      <td>...</td>\n",
       "      <td>...</td>\n",
       "      <td>...</td>\n",
       "      <td>...</td>\n",
       "      <td>...</td>\n",
       "      <td>...</td>\n",
       "      <td>...</td>\n",
       "      <td>...</td>\n",
       "      <td>...</td>\n",
       "      <td>...</td>\n",
       "      <td>...</td>\n",
       "      <td>...</td>\n",
       "    </tr>\n",
       "    <tr>\n",
       "      <th>17995</th>\n",
       "      <td>Yes</td>\n",
       "      <td>Points</td>\n",
       "      <td>Postcard</td>\n",
       "      <td>Medium</td>\n",
       "      <td>2</td>\n",
       "      <td>No</td>\n",
       "      <td>Medium</td>\n",
       "      <td>3</td>\n",
       "      <td>1</td>\n",
       "      <td>Yes</td>\n",
       "      <td>1261.0</td>\n",
       "      <td>1793.0</td>\n",
       "      <td>1562.0</td>\n",
       "      <td>(3.0, 4.0]</td>\n",
       "    </tr>\n",
       "    <tr>\n",
       "      <th>17996</th>\n",
       "      <td>Yes</td>\n",
       "      <td>Points</td>\n",
       "      <td>Postcard</td>\n",
       "      <td>Medium</td>\n",
       "      <td>2</td>\n",
       "      <td>Yes</td>\n",
       "      <td>Low</td>\n",
       "      <td>1</td>\n",
       "      <td>2</td>\n",
       "      <td>Yes</td>\n",
       "      <td>399.0</td>\n",
       "      <td>192.0</td>\n",
       "      <td>290.0</td>\n",
       "      <td>(0.999, 3.0]</td>\n",
       "    </tr>\n",
       "    <tr>\n",
       "      <th>17997</th>\n",
       "      <td>Yes</td>\n",
       "      <td>Points</td>\n",
       "      <td>Postcard</td>\n",
       "      <td>Medium</td>\n",
       "      <td>2</td>\n",
       "      <td>Yes</td>\n",
       "      <td>Low</td>\n",
       "      <td>2</td>\n",
       "      <td>1</td>\n",
       "      <td>No</td>\n",
       "      <td>1464.0</td>\n",
       "      <td>1615.0</td>\n",
       "      <td>754.0</td>\n",
       "      <td>(3.0, 4.0]</td>\n",
       "    </tr>\n",
       "    <tr>\n",
       "      <th>17998</th>\n",
       "      <td>Yes</td>\n",
       "      <td>Points</td>\n",
       "      <td>Postcard</td>\n",
       "      <td>Medium</td>\n",
       "      <td>2</td>\n",
       "      <td>Yes</td>\n",
       "      <td>Low</td>\n",
       "      <td>2</td>\n",
       "      <td>1</td>\n",
       "      <td>Yes</td>\n",
       "      <td>706.0</td>\n",
       "      <td>914.0</td>\n",
       "      <td>1330.0</td>\n",
       "      <td>(4.0, 9.0]</td>\n",
       "    </tr>\n",
       "    <tr>\n",
       "      <th>17999</th>\n",
       "      <td>Yes</td>\n",
       "      <td>Points</td>\n",
       "      <td>Postcard</td>\n",
       "      <td>Medium</td>\n",
       "      <td>3</td>\n",
       "      <td>No</td>\n",
       "      <td>Medium</td>\n",
       "      <td>2</td>\n",
       "      <td>1</td>\n",
       "      <td>No</td>\n",
       "      <td>56.0</td>\n",
       "      <td>261.0</td>\n",
       "      <td>214.0</td>\n",
       "      <td>(0.999, 3.0]</td>\n",
       "    </tr>\n",
       "  </tbody>\n",
       "</table>\n",
       "<p>18000 rows × 14 columns</p>\n",
       "</div>"
      ],
      "text/plain": [
       "      offer_accepted     reward mailer_type income_level  bank_accounts_open  \\\n",
       "0                 No  Air Miles      Letter         High                   1   \n",
       "1                 No  Air Miles      Letter         High                   1   \n",
       "2                 No  Air Miles      Letter         High                   1   \n",
       "3                 No  Air Miles      Letter         High                   1   \n",
       "4                 No  Air Miles      Letter         High                   1   \n",
       "...              ...        ...         ...          ...                 ...   \n",
       "17995            Yes     Points    Postcard       Medium                   2   \n",
       "17996            Yes     Points    Postcard       Medium                   2   \n",
       "17997            Yes     Points    Postcard       Medium                   2   \n",
       "17998            Yes     Points    Postcard       Medium                   2   \n",
       "17999            Yes     Points    Postcard       Medium                   3   \n",
       "\n",
       "      overdraft_protection credit_rating  credit_cards_held  homes_owned  \\\n",
       "0                       No          High                  1            1   \n",
       "1                       No          High                  1            1   \n",
       "2                       No          High                  1            1   \n",
       "3                       No          High                  1            1   \n",
       "4                       No          High                  1            1   \n",
       "...                    ...           ...                ...          ...   \n",
       "17995                   No        Medium                  3            1   \n",
       "17996                  Yes           Low                  1            2   \n",
       "17997                  Yes           Low                  2            1   \n",
       "17998                  Yes           Low                  2            1   \n",
       "17999                   No        Medium                  2            1   \n",
       "\n",
       "      own_your_home  q2_balance  q3_balance  q4_balance household_size  \n",
       "0                No        15.0       436.0       154.0   (0.999, 3.0]  \n",
       "1                No       284.0       284.0       151.0   (0.999, 3.0]  \n",
       "2                No       532.0      1211.0      1866.0     (3.0, 4.0]  \n",
       "3                No       646.0       598.0       506.0     (4.0, 9.0]  \n",
       "4                No       821.0       740.0       705.0     (3.0, 4.0]  \n",
       "...             ...         ...         ...         ...            ...  \n",
       "17995           Yes      1261.0      1793.0      1562.0     (3.0, 4.0]  \n",
       "17996           Yes       399.0       192.0       290.0   (0.999, 3.0]  \n",
       "17997            No      1464.0      1615.0       754.0     (3.0, 4.0]  \n",
       "17998           Yes       706.0       914.0      1330.0     (4.0, 9.0]  \n",
       "17999            No        56.0       261.0       214.0   (0.999, 3.0]  \n",
       "\n",
       "[18000 rows x 14 columns]"
      ]
     },
     "execution_count": 12,
     "metadata": {},
     "output_type": "execute_result"
    }
   ],
   "source": [
    "df"
   ]
  },
  {
   "cell_type": "markdown",
   "id": "opposed-paper",
   "metadata": {},
   "source": [
    "### Outliers <a class=\"anchor\" id=\"boxplots\"></a>\n"
   ]
  },
  {
   "cell_type": "code",
   "execution_count": 13,
   "id": "entitled-south",
   "metadata": {},
   "outputs": [
    {
     "name": "stdout",
     "output_type": "stream",
     "text": [
      "Q1 of the column  q2_balance : 664.0\n",
      "Q3 of the column  q2_balance : 1342.0\n",
      "IRQ of the column  q2_balance : 678.0\n",
      "lower_whisker:  -353.0 , upper whisker:  2359.0\n",
      "Q1 of the column  q3_balance : 633.0\n",
      "Q3 of the column  q3_balance : 1461.0\n",
      "IRQ of the column  q3_balance : 828.0\n",
      "lower_whisker:  -609.0 , upper whisker:  2703.0\n",
      "Q1 of the column  q4_balance : 363.0\n",
      "Q3 of the column  q4_balance : 1210.0\n",
      "IRQ of the column  q4_balance : 847.0\n",
      "lower_whisker:  -907.5 , upper whisker:  2480.5\n"
     ]
    }
   ],
   "source": [
    "# find quartiles and clean up outliers\n",
    "cols_outliers = [ 'q2_balance', 'q3_balance', 'q4_balance']\n",
    "\n",
    "for col in cols_outliers:\n",
    "    Q1 = df[col].quantile(0.25)\n",
    "    Q3 = df[col].quantile(0.75)\n",
    "    IQR = Q3 - Q1\n",
    "    print('Q1 of the column ', col,':', Q1)\n",
    "    print('Q3 of the column ', col,':', Q3)\n",
    "    print('IRQ of the column ', col,':', IQR)\n",
    "    Lower_Whisker = Q1 - 1.5 * IQR\n",
    "    Upper_Whisker = Q3 + 1.5 * IQR\n",
    "    print('lower_whisker: ', Lower_Whisker, ',' , 'upper whisker: ', Upper_Whisker)\n",
    "    #  Outlier Treatment \n",
    "    df = df[df[col]< Upper_Whisker]\n",
    "    df = df[df[col]> Lower_Whisker]\n",
    "    \n"
   ]
  },
  {
   "cell_type": "code",
   "execution_count": 14,
   "id": "intellectual-quantum",
   "metadata": {},
   "outputs": [
    {
     "data": {
      "text/html": [
       "<div>\n",
       "<style scoped>\n",
       "    .dataframe tbody tr th:only-of-type {\n",
       "        vertical-align: middle;\n",
       "    }\n",
       "\n",
       "    .dataframe tbody tr th {\n",
       "        vertical-align: top;\n",
       "    }\n",
       "\n",
       "    .dataframe thead th {\n",
       "        text-align: right;\n",
       "    }\n",
       "</style>\n",
       "<table border=\"1\" class=\"dataframe\">\n",
       "  <thead>\n",
       "    <tr style=\"text-align: right;\">\n",
       "      <th></th>\n",
       "      <th>offer_accepted</th>\n",
       "      <th>reward</th>\n",
       "      <th>mailer_type</th>\n",
       "      <th>income_level</th>\n",
       "      <th>overdraft_protection</th>\n",
       "      <th>credit_rating</th>\n",
       "      <th>own_your_home</th>\n",
       "    </tr>\n",
       "  </thead>\n",
       "  <tbody>\n",
       "    <tr>\n",
       "      <th>0</th>\n",
       "      <td>No</td>\n",
       "      <td>Air Miles</td>\n",
       "      <td>Letter</td>\n",
       "      <td>High</td>\n",
       "      <td>No</td>\n",
       "      <td>High</td>\n",
       "      <td>No</td>\n",
       "    </tr>\n",
       "    <tr>\n",
       "      <th>1</th>\n",
       "      <td>No</td>\n",
       "      <td>Air Miles</td>\n",
       "      <td>Letter</td>\n",
       "      <td>High</td>\n",
       "      <td>No</td>\n",
       "      <td>High</td>\n",
       "      <td>No</td>\n",
       "    </tr>\n",
       "    <tr>\n",
       "      <th>2</th>\n",
       "      <td>No</td>\n",
       "      <td>Air Miles</td>\n",
       "      <td>Letter</td>\n",
       "      <td>High</td>\n",
       "      <td>No</td>\n",
       "      <td>High</td>\n",
       "      <td>No</td>\n",
       "    </tr>\n",
       "    <tr>\n",
       "      <th>3</th>\n",
       "      <td>No</td>\n",
       "      <td>Air Miles</td>\n",
       "      <td>Letter</td>\n",
       "      <td>High</td>\n",
       "      <td>No</td>\n",
       "      <td>High</td>\n",
       "      <td>No</td>\n",
       "    </tr>\n",
       "    <tr>\n",
       "      <th>4</th>\n",
       "      <td>No</td>\n",
       "      <td>Air Miles</td>\n",
       "      <td>Letter</td>\n",
       "      <td>High</td>\n",
       "      <td>No</td>\n",
       "      <td>High</td>\n",
       "      <td>No</td>\n",
       "    </tr>\n",
       "    <tr>\n",
       "      <th>...</th>\n",
       "      <td>...</td>\n",
       "      <td>...</td>\n",
       "      <td>...</td>\n",
       "      <td>...</td>\n",
       "      <td>...</td>\n",
       "      <td>...</td>\n",
       "      <td>...</td>\n",
       "    </tr>\n",
       "    <tr>\n",
       "      <th>17995</th>\n",
       "      <td>Yes</td>\n",
       "      <td>Points</td>\n",
       "      <td>Postcard</td>\n",
       "      <td>Medium</td>\n",
       "      <td>No</td>\n",
       "      <td>Medium</td>\n",
       "      <td>Yes</td>\n",
       "    </tr>\n",
       "    <tr>\n",
       "      <th>17996</th>\n",
       "      <td>Yes</td>\n",
       "      <td>Points</td>\n",
       "      <td>Postcard</td>\n",
       "      <td>Medium</td>\n",
       "      <td>Yes</td>\n",
       "      <td>Low</td>\n",
       "      <td>Yes</td>\n",
       "    </tr>\n",
       "    <tr>\n",
       "      <th>17997</th>\n",
       "      <td>Yes</td>\n",
       "      <td>Points</td>\n",
       "      <td>Postcard</td>\n",
       "      <td>Medium</td>\n",
       "      <td>Yes</td>\n",
       "      <td>Low</td>\n",
       "      <td>No</td>\n",
       "    </tr>\n",
       "    <tr>\n",
       "      <th>17998</th>\n",
       "      <td>Yes</td>\n",
       "      <td>Points</td>\n",
       "      <td>Postcard</td>\n",
       "      <td>Medium</td>\n",
       "      <td>Yes</td>\n",
       "      <td>Low</td>\n",
       "      <td>Yes</td>\n",
       "    </tr>\n",
       "    <tr>\n",
       "      <th>17999</th>\n",
       "      <td>Yes</td>\n",
       "      <td>Points</td>\n",
       "      <td>Postcard</td>\n",
       "      <td>Medium</td>\n",
       "      <td>No</td>\n",
       "      <td>Medium</td>\n",
       "      <td>No</td>\n",
       "    </tr>\n",
       "  </tbody>\n",
       "</table>\n",
       "<p>17990 rows × 7 columns</p>\n",
       "</div>"
      ],
      "text/plain": [
       "      offer_accepted     reward mailer_type income_level overdraft_protection  \\\n",
       "0                 No  Air Miles      Letter         High                   No   \n",
       "1                 No  Air Miles      Letter         High                   No   \n",
       "2                 No  Air Miles      Letter         High                   No   \n",
       "3                 No  Air Miles      Letter         High                   No   \n",
       "4                 No  Air Miles      Letter         High                   No   \n",
       "...              ...        ...         ...          ...                  ...   \n",
       "17995            Yes     Points    Postcard       Medium                   No   \n",
       "17996            Yes     Points    Postcard       Medium                  Yes   \n",
       "17997            Yes     Points    Postcard       Medium                  Yes   \n",
       "17998            Yes     Points    Postcard       Medium                  Yes   \n",
       "17999            Yes     Points    Postcard       Medium                   No   \n",
       "\n",
       "      credit_rating own_your_home  \n",
       "0              High            No  \n",
       "1              High            No  \n",
       "2              High            No  \n",
       "3              High            No  \n",
       "4              High            No  \n",
       "...             ...           ...  \n",
       "17995        Medium           Yes  \n",
       "17996           Low           Yes  \n",
       "17997           Low            No  \n",
       "17998           Low           Yes  \n",
       "17999        Medium            No  \n",
       "\n",
       "[17990 rows x 7 columns]"
      ]
     },
     "execution_count": 14,
     "metadata": {},
     "output_type": "execute_result"
    }
   ],
   "source": [
    "# label / encode any categorical columns \n",
    "cat = df.select_dtypes(include = np.object)\n",
    "cat"
   ]
  },
  {
   "cell_type": "code",
   "execution_count": 15,
   "id": "under-conditions",
   "metadata": {},
   "outputs": [],
   "source": [
    "# locate the target column in the last position\n",
    "cols = list(df.columns)\n",
    "cols = cols[1:]+[cols[0]]\n",
    "df = df[cols]\n"
   ]
  },
  {
   "cell_type": "code",
   "execution_count": 16,
   "id": "tutorial-wedding",
   "metadata": {},
   "outputs": [],
   "source": [
    "# convert balances to float\n",
    "df['q2_balance'] = pd.to_numeric(df.q2_balance, errors='coerce')\n",
    "df['q3_balance'] = pd.to_numeric(df.q3_balance, errors='coerce')\n",
    "df['q4_balance'] = pd.to_numeric(df.q4_balance, errors='coerce')"
   ]
  },
  {
   "cell_type": "markdown",
   "id": "accepting-approval",
   "metadata": {},
   "source": [
    "### Density Plots"
   ]
  },
  {
   "cell_type": "code",
   "execution_count": 17,
   "id": "victorian-ladder",
   "metadata": {},
   "outputs": [
    {
     "data": {
      "text/html": [
       "<div>\n",
       "<style scoped>\n",
       "    .dataframe tbody tr th:only-of-type {\n",
       "        vertical-align: middle;\n",
       "    }\n",
       "\n",
       "    .dataframe tbody tr th {\n",
       "        vertical-align: top;\n",
       "    }\n",
       "\n",
       "    .dataframe thead th {\n",
       "        text-align: right;\n",
       "    }\n",
       "</style>\n",
       "<table border=\"1\" class=\"dataframe\">\n",
       "  <thead>\n",
       "    <tr style=\"text-align: right;\">\n",
       "      <th></th>\n",
       "      <th>bank_accounts_open</th>\n",
       "      <th>credit_cards_held</th>\n",
       "      <th>homes_owned</th>\n",
       "      <th>q2_balance</th>\n",
       "      <th>q3_balance</th>\n",
       "      <th>q4_balance</th>\n",
       "    </tr>\n",
       "  </thead>\n",
       "  <tbody>\n",
       "    <tr>\n",
       "      <th>0</th>\n",
       "      <td>1</td>\n",
       "      <td>1</td>\n",
       "      <td>1</td>\n",
       "      <td>15.0</td>\n",
       "      <td>436.0</td>\n",
       "      <td>154.0</td>\n",
       "    </tr>\n",
       "    <tr>\n",
       "      <th>1</th>\n",
       "      <td>1</td>\n",
       "      <td>1</td>\n",
       "      <td>1</td>\n",
       "      <td>284.0</td>\n",
       "      <td>284.0</td>\n",
       "      <td>151.0</td>\n",
       "    </tr>\n",
       "    <tr>\n",
       "      <th>2</th>\n",
       "      <td>1</td>\n",
       "      <td>1</td>\n",
       "      <td>1</td>\n",
       "      <td>532.0</td>\n",
       "      <td>1211.0</td>\n",
       "      <td>1866.0</td>\n",
       "    </tr>\n",
       "    <tr>\n",
       "      <th>3</th>\n",
       "      <td>1</td>\n",
       "      <td>1</td>\n",
       "      <td>1</td>\n",
       "      <td>646.0</td>\n",
       "      <td>598.0</td>\n",
       "      <td>506.0</td>\n",
       "    </tr>\n",
       "    <tr>\n",
       "      <th>4</th>\n",
       "      <td>1</td>\n",
       "      <td>1</td>\n",
       "      <td>1</td>\n",
       "      <td>821.0</td>\n",
       "      <td>740.0</td>\n",
       "      <td>705.0</td>\n",
       "    </tr>\n",
       "    <tr>\n",
       "      <th>...</th>\n",
       "      <td>...</td>\n",
       "      <td>...</td>\n",
       "      <td>...</td>\n",
       "      <td>...</td>\n",
       "      <td>...</td>\n",
       "      <td>...</td>\n",
       "    </tr>\n",
       "    <tr>\n",
       "      <th>17995</th>\n",
       "      <td>2</td>\n",
       "      <td>3</td>\n",
       "      <td>1</td>\n",
       "      <td>1261.0</td>\n",
       "      <td>1793.0</td>\n",
       "      <td>1562.0</td>\n",
       "    </tr>\n",
       "    <tr>\n",
       "      <th>17996</th>\n",
       "      <td>2</td>\n",
       "      <td>1</td>\n",
       "      <td>2</td>\n",
       "      <td>399.0</td>\n",
       "      <td>192.0</td>\n",
       "      <td>290.0</td>\n",
       "    </tr>\n",
       "    <tr>\n",
       "      <th>17997</th>\n",
       "      <td>2</td>\n",
       "      <td>2</td>\n",
       "      <td>1</td>\n",
       "      <td>1464.0</td>\n",
       "      <td>1615.0</td>\n",
       "      <td>754.0</td>\n",
       "    </tr>\n",
       "    <tr>\n",
       "      <th>17998</th>\n",
       "      <td>2</td>\n",
       "      <td>2</td>\n",
       "      <td>1</td>\n",
       "      <td>706.0</td>\n",
       "      <td>914.0</td>\n",
       "      <td>1330.0</td>\n",
       "    </tr>\n",
       "    <tr>\n",
       "      <th>17999</th>\n",
       "      <td>3</td>\n",
       "      <td>2</td>\n",
       "      <td>1</td>\n",
       "      <td>56.0</td>\n",
       "      <td>261.0</td>\n",
       "      <td>214.0</td>\n",
       "    </tr>\n",
       "  </tbody>\n",
       "</table>\n",
       "<p>17990 rows × 6 columns</p>\n",
       "</div>"
      ],
      "text/plain": [
       "       bank_accounts_open  credit_cards_held  homes_owned  q2_balance  \\\n",
       "0                       1                  1            1        15.0   \n",
       "1                       1                  1            1       284.0   \n",
       "2                       1                  1            1       532.0   \n",
       "3                       1                  1            1       646.0   \n",
       "4                       1                  1            1       821.0   \n",
       "...                   ...                ...          ...         ...   \n",
       "17995                   2                  3            1      1261.0   \n",
       "17996                   2                  1            2       399.0   \n",
       "17997                   2                  2            1      1464.0   \n",
       "17998                   2                  2            1       706.0   \n",
       "17999                   3                  2            1        56.0   \n",
       "\n",
       "       q3_balance  q4_balance  \n",
       "0           436.0       154.0  \n",
       "1           284.0       151.0  \n",
       "2          1211.0      1866.0  \n",
       "3           598.0       506.0  \n",
       "4           740.0       705.0  \n",
       "...           ...         ...  \n",
       "17995      1793.0      1562.0  \n",
       "17996       192.0       290.0  \n",
       "17997      1615.0       754.0  \n",
       "17998       914.0      1330.0  \n",
       "17999       261.0       214.0  \n",
       "\n",
       "[17990 rows x 6 columns]"
      ]
     },
     "execution_count": 17,
     "metadata": {},
     "output_type": "execute_result"
    }
   ],
   "source": [
    "numerics = ['int64', 'float64']\n",
    "df_num = df.select_dtypes(include=numerics)\n",
    "df_num\n",
    "# for col in df_num.columns:\n",
    "#     ax = sns.kdeplot(data= df_num, x= col, shade= True)\n",
    "#     plt.figure()"
   ]
  },
  {
   "cell_type": "markdown",
   "id": "received-serbia",
   "metadata": {},
   "source": [
    "### Pre-processing <a class=\"anchor\" id=\"preprocessing\"></a>\n"
   ]
  },
  {
   "cell_type": "code",
   "execution_count": 18,
   "id": "stainless-racing",
   "metadata": {},
   "outputs": [],
   "source": [
    "# reset index\n",
    "df = df.reset_index(drop = True)"
   ]
  },
  {
   "cell_type": "code",
   "execution_count": 19,
   "id": "collected-catering",
   "metadata": {},
   "outputs": [],
   "source": [
    "#df.head()"
   ]
  },
  {
   "cell_type": "code",
   "execution_count": 20,
   "id": "headed-easter",
   "metadata": {},
   "outputs": [
    {
     "name": "stdout",
     "output_type": "stream",
     "text": [
      "<class 'pandas.core.frame.DataFrame'>\n",
      "RangeIndex: 17990 entries, 0 to 17989\n",
      "Data columns (total 11 columns):\n",
      " #   Column                Non-Null Count  Dtype   \n",
      "---  ------                --------------  -----   \n",
      " 0   reward                17990 non-null  object  \n",
      " 1   mailer_type           17990 non-null  object  \n",
      " 2   income_level          17990 non-null  object  \n",
      " 3   bank_accounts_open    17990 non-null  int64   \n",
      " 4   overdraft_protection  17990 non-null  object  \n",
      " 5   credit_rating         17990 non-null  object  \n",
      " 6   credit_cards_held     17990 non-null  int64   \n",
      " 7   homes_owned           17990 non-null  int64   \n",
      " 8   own_your_home         17990 non-null  object  \n",
      " 9   household_size        17990 non-null  category\n",
      " 10  offer_accepted        17990 non-null  object  \n",
      "dtypes: category(1), int64(3), object(7)\n",
      "memory usage: 1.4+ MB\n"
     ]
    }
   ],
   "source": [
    "# categorical = pd.get_dummies(cat, columns =['reward', 'mailer_type', 'income_level',\n",
    "#        'overdraft_protection', 'credit_rating', 'own_your_home',\n",
    "#        'average_balance', 'offer_accepted'],drop_first=True)\n",
    "\n",
    "cat = df.select_dtypes(exclude = ['float64'])\n",
    "cat.info()\n",
    "\n",
    "# categorical.head()\n"
   ]
  },
  {
   "cell_type": "code",
   "execution_count": 21,
   "id": "apparent-framework",
   "metadata": {},
   "outputs": [],
   "source": [
    "categorical = pd.get_dummies(cat, columns =['reward',\n",
    " 'mailer_type',\n",
    " 'income_level',\n",
    " 'bank_accounts_open',\n",
    " 'overdraft_protection',\n",
    " 'credit_rating',\n",
    " 'credit_cards_held',\n",
    " 'homes_owned',\n",
    " 'household_size',\n",
    " 'own_your_home',\n",
    " 'offer_accepted'],drop_first=True)"
   ]
  },
  {
   "cell_type": "code",
   "execution_count": 22,
   "id": "unique-sodium",
   "metadata": {},
   "outputs": [],
   "source": [
    "# numerical scaling \n",
    "from sklearn.preprocessing import Normalizer"
   ]
  },
  {
   "cell_type": "code",
   "execution_count": 23,
   "id": "varied-ability",
   "metadata": {},
   "outputs": [],
   "source": [
    "# df_num are the numerical\n",
    "\n",
    "X = df_num.drop(['bank_accounts_open', 'credit_cards_held', 'homes_owned'], axis=1)\n",
    "transformer = Normalizer().fit(X)\n",
    "X_normalised= transformer.transform(X)\n",
    "X_normalised = pd.DataFrame(X_normalised)"
   ]
  },
  {
   "cell_type": "code",
   "execution_count": 24,
   "id": "cognitive-chess",
   "metadata": {},
   "outputs": [
    {
     "data": {
      "text/html": [
       "<div>\n",
       "<style scoped>\n",
       "    .dataframe tbody tr th:only-of-type {\n",
       "        vertical-align: middle;\n",
       "    }\n",
       "\n",
       "    .dataframe tbody tr th {\n",
       "        vertical-align: top;\n",
       "    }\n",
       "\n",
       "    .dataframe thead th {\n",
       "        text-align: right;\n",
       "    }\n",
       "</style>\n",
       "<table border=\"1\" class=\"dataframe\">\n",
       "  <thead>\n",
       "    <tr style=\"text-align: right;\">\n",
       "      <th></th>\n",
       "      <th>0</th>\n",
       "      <th>1</th>\n",
       "      <th>2</th>\n",
       "    </tr>\n",
       "  </thead>\n",
       "  <tbody>\n",
       "    <tr>\n",
       "      <th>0</th>\n",
       "      <td>0.032423</td>\n",
       "      <td>0.942415</td>\n",
       "      <td>0.332871</td>\n",
       "    </tr>\n",
       "    <tr>\n",
       "      <th>1</th>\n",
       "      <td>0.661875</td>\n",
       "      <td>0.661875</td>\n",
       "      <td>0.351913</td>\n",
       "    </tr>\n",
       "    <tr>\n",
       "      <th>2</th>\n",
       "      <td>0.232594</td>\n",
       "      <td>0.529457</td>\n",
       "      <td>0.815828</td>\n",
       "    </tr>\n",
       "    <tr>\n",
       "      <th>3</th>\n",
       "      <td>0.636228</td>\n",
       "      <td>0.588954</td>\n",
       "      <td>0.498345</td>\n",
       "    </tr>\n",
       "    <tr>\n",
       "      <th>4</th>\n",
       "      <td>0.626250</td>\n",
       "      <td>0.564464</td>\n",
       "      <td>0.537766</td>\n",
       "    </tr>\n",
       "    <tr>\n",
       "      <th>...</th>\n",
       "      <td>...</td>\n",
       "      <td>...</td>\n",
       "      <td>...</td>\n",
       "    </tr>\n",
       "    <tr>\n",
       "      <th>17985</th>\n",
       "      <td>0.468491</td>\n",
       "      <td>0.666142</td>\n",
       "      <td>0.580320</td>\n",
       "    </tr>\n",
       "    <tr>\n",
       "      <th>17986</th>\n",
       "      <td>0.753817</td>\n",
       "      <td>0.362739</td>\n",
       "      <td>0.547887</td>\n",
       "    </tr>\n",
       "    <tr>\n",
       "      <th>17987</th>\n",
       "      <td>0.634722</td>\n",
       "      <td>0.700189</td>\n",
       "      <td>0.326899</td>\n",
       "    </tr>\n",
       "    <tr>\n",
       "      <th>17988</th>\n",
       "      <td>0.400804</td>\n",
       "      <td>0.518889</td>\n",
       "      <td>0.755057</td>\n",
       "    </tr>\n",
       "    <tr>\n",
       "      <th>17989</th>\n",
       "      <td>0.163680</td>\n",
       "      <td>0.762868</td>\n",
       "      <td>0.625493</td>\n",
       "    </tr>\n",
       "  </tbody>\n",
       "</table>\n",
       "<p>17990 rows × 3 columns</p>\n",
       "</div>"
      ],
      "text/plain": [
       "              0         1         2\n",
       "0      0.032423  0.942415  0.332871\n",
       "1      0.661875  0.661875  0.351913\n",
       "2      0.232594  0.529457  0.815828\n",
       "3      0.636228  0.588954  0.498345\n",
       "4      0.626250  0.564464  0.537766\n",
       "...         ...       ...       ...\n",
       "17985  0.468491  0.666142  0.580320\n",
       "17986  0.753817  0.362739  0.547887\n",
       "17987  0.634722  0.700189  0.326899\n",
       "17988  0.400804  0.518889  0.755057\n",
       "17989  0.163680  0.762868  0.625493\n",
       "\n",
       "[17990 rows x 3 columns]"
      ]
     },
     "execution_count": 24,
     "metadata": {},
     "output_type": "execute_result"
    }
   ],
   "source": [
    "X_normalised\n"
   ]
  },
  {
   "cell_type": "markdown",
   "id": "fossil-armor",
   "metadata": {},
   "source": [
    "### Split off the dependant variable (label) <a class=\"anchor\" id=\"split\"></a>"
   ]
  },
  {
   "cell_type": "code",
   "execution_count": 25,
   "id": "lovely-community",
   "metadata": {},
   "outputs": [],
   "source": [
    "#sort out the categoricals \n",
    "y= categorical['offer_accepted_Yes']\n",
    "categorical=categorical.drop(['offer_accepted_Yes'], axis=1)\n",
    "#categorical"
   ]
  },
  {
   "cell_type": "code",
   "execution_count": 26,
   "id": "adapted-nicholas",
   "metadata": {},
   "outputs": [],
   "source": [
    "# bring the numerical data (scaled)in with the x cat\n",
    "X = np.concatenate((X_normalised, categorical),axis=1)"
   ]
  },
  {
   "cell_type": "markdown",
   "id": "rotary-garlic",
   "metadata": {},
   "source": [
    "### TT split, get model <a class=\"anchor\" id=\"ttsplit\"></a>"
   ]
  },
  {
   "cell_type": "code",
   "execution_count": 27,
   "id": "certified-diana",
   "metadata": {},
   "outputs": [],
   "source": [
    "from sklearn.linear_model import LogisticRegression"
   ]
  },
  {
   "cell_type": "code",
   "execution_count": 28,
   "id": "endangered-terrorist",
   "metadata": {},
   "outputs": [],
   "source": [
    "from sklearn.model_selection import train_test_split\n",
    "\n",
    "X_train, X_test, y_train, y_test =train_test_split(X, y, test_size= 0.4, random_state=40)"
   ]
  },
  {
   "cell_type": "markdown",
   "id": "forty-float",
   "metadata": {},
   "source": [
    "### Apply model and train model <a class=\"anchor\" id=\"applymodel\"></a>"
   ]
  },
  {
   "cell_type": "code",
   "execution_count": 29,
   "id": "numerous-globe",
   "metadata": {},
   "outputs": [],
   "source": [
    "classification = LogisticRegression(random_state=0, solver='lbfgs',max_iter=400,\n",
    "                  multi_class='ovr').fit(X_train, y_train)"
   ]
  },
  {
   "cell_type": "markdown",
   "id": "hispanic-beatles",
   "metadata": {},
   "source": [
    "### Evaluate accuracy and test <a class=\"anchor\" id=\"evaluate\"></a>"
   ]
  },
  {
   "cell_type": "code",
   "execution_count": 30,
   "id": "confirmed-surveillance",
   "metadata": {},
   "outputs": [],
   "source": [
    "from sklearn.metrics import accuracy_score \n",
    "predictions = classification.predict(X_test)"
   ]
  },
  {
   "cell_type": "code",
   "execution_count": 31,
   "id": "nonprofit-technical",
   "metadata": {},
   "outputs": [
    {
     "data": {
      "text/plain": [
       "array([0, 0, 0, ..., 0, 0, 0], dtype=uint8)"
      ]
     },
     "execution_count": 31,
     "metadata": {},
     "output_type": "execute_result"
    }
   ],
   "source": [
    "predictions"
   ]
  },
  {
   "cell_type": "code",
   "execution_count": 32,
   "id": "civic-yorkshire",
   "metadata": {},
   "outputs": [
    {
     "data": {
      "text/plain": [
       "0.9460811561978877"
      ]
     },
     "execution_count": 32,
     "metadata": {},
     "output_type": "execute_result"
    }
   ],
   "source": [
    "accuracy_score(y_test, predictions)"
   ]
  },
  {
   "cell_type": "markdown",
   "id": "maritime-palestine",
   "metadata": {},
   "source": [
    "### Visualising accuracy - ROC / AUC  <a class=\"anchor\" id=\"rocauc\"></a>"
   ]
  },
  {
   "cell_type": "code",
   "execution_count": 33,
   "id": "pointed-blackberry",
   "metadata": {},
   "outputs": [
    {
     "name": "stdout",
     "output_type": "stream",
     "text": [
      "0.7477774025706567\n"
     ]
    }
   ],
   "source": [
    "import sklearn.metrics as metrics \n",
    "probs = classification.predict_proba(X_test)\n",
    "preds =probs[:,1]\n",
    "fpr, tpr, threshold = metrics.roc_curve(y_test, preds)\n",
    "roc_auc = metrics.auc(fpr, tpr)\n",
    "print(roc_auc)"
   ]
  },
  {
   "cell_type": "code",
   "execution_count": 34,
   "id": "reverse-vacation",
   "metadata": {},
   "outputs": [],
   "source": [
    "#definitions \n",
    "# tpr = true positive rate \n",
    "# fpr = false positive rate"
   ]
  },
  {
   "cell_type": "code",
   "execution_count": 35,
   "id": "informal-worry",
   "metadata": {},
   "outputs": [
    {
     "data": {
      "image/png": "[encoded data removed]",
      "text/plain": [
       "<Figure size 432x288 with 1 Axes>"
      ]
     },
     "metadata": {
      "needs_background": "light"
     },
     "output_type": "display_data"
    }
   ],
   "source": [
    "# method to plot AUC visually \n",
    "plt.title('Receiver Operating Characteristic')\n",
    "plt.plot(fpr, tpr, 'b', label = 'AUC = %0.2f' % roc_auc)\n",
    "plt.legend(loc = 'lower right')\n",
    "plt.plot([0, 1], [0, 1],'r--')\n",
    "plt.xlim([0, 1])\n",
    "plt.ylim([0, 1])\n",
    "plt.ylabel('True Positive Rate')\n",
    "plt.xlabel('False Positive Rate')\n",
    "plt.show()"
   ]
  },
  {
   "cell_type": "code",
   "execution_count": 36,
   "id": "accepting-picnic",
   "metadata": {},
   "outputs": [
    {
     "data": {
      "image/png": "[encoded data removed]",
      "text/plain": [
       "<Figure size 432x288 with 2 Axes>"
      ]
     },
     "metadata": {
      "needs_background": "light"
     },
     "output_type": "display_data"
    }
   ],
   "source": [
    "# confusion matrix \n",
    "\n",
    "from sklearn.metrics import confusion_matrix \n",
    "from sklearn.metrics import plot_confusion_matrix\n",
    "\n",
    "accuracy_score(y_test,predictions)\n",
    "confusion_matrix(y_test,predictions)\n",
    "plot_confusion_matrix(classification, X_test, y_test)\n",
    "plt.show()\n"
   ]
  },
  {
   "cell_type": "markdown",
   "id": "nonprofit-finger",
   "metadata": {},
   "source": [
    "### Data imbalanced -  SMOTE (oversample the minority class of the target label) <a class=\"anchor\" id=\"smote\"></a>"
   ]
  },
  {
   "cell_type": "code",
   "execution_count": 37,
   "id": "polar-processor",
   "metadata": {},
   "outputs": [],
   "source": [
    "from imblearn.over_sampling import SMOTE"
   ]
  },
  {
   "cell_type": "code",
   "execution_count": 38,
   "id": "sunrise-tunisia",
   "metadata": {},
   "outputs": [],
   "source": [
    "smote = SMOTE()\n"
   ]
  },
  {
   "cell_type": "code",
   "execution_count": 39,
   "id": "recent-turtle",
   "metadata": {},
   "outputs": [
    {
     "data": {
      "text/plain": [
       "0    16967\n",
       "1    16967\n",
       "Name: offer_accepted_Yes, dtype: int64"
      ]
     },
     "execution_count": 39,
     "metadata": {},
     "output_type": "execute_result"
    }
   ],
   "source": [
    "X_sm, y_sm = smote.fit_resample(X, y)\n",
    "y_sm.value_counts()"
   ]
  },
  {
   "cell_type": "code",
   "execution_count": 40,
   "id": "effective-stroke",
   "metadata": {},
   "outputs": [],
   "source": [
    "#re do train test split It2\n",
    "\n",
    "X_train, X_test, y_train, y_test =train_test_split(X_sm, y_sm, test_size= 0.4, random_state=40)"
   ]
  },
  {
   "cell_type": "code",
   "execution_count": 41,
   "id": "analyzed-label",
   "metadata": {},
   "outputs": [],
   "source": [
    "# apply model It2 \n",
    "classification = LogisticRegression(random_state=0, solver='lbfgs',max_iter=400,\n",
    "                  multi_class='ovr').fit(X_train, y_train)"
   ]
  },
  {
   "cell_type": "code",
   "execution_count": 42,
   "id": "developing-harris",
   "metadata": {},
   "outputs": [
    {
     "data": {
      "text/plain": [
       "0.721305436864594"
      ]
     },
     "execution_count": 42,
     "metadata": {},
     "output_type": "execute_result"
    }
   ],
   "source": [
    "#accuracy assessment It2\n",
    "predictions = classification.predict(X_test)\n",
    "accuracy_score(y_test, predictions)"
   ]
  },
  {
   "cell_type": "code",
   "execution_count": 43,
   "id": "corrected-papua",
   "metadata": {},
   "outputs": [
    {
     "data": {
      "image/png": "[encoded data removed]",
      "text/plain": [
       "<Figure size 432x288 with 2 Axes>"
      ]
     },
     "metadata": {
      "needs_background": "light"
     },
     "output_type": "display_data"
    }
   ],
   "source": [
    "#Conf matrix It2 \n",
    "confusion_matrix(y_test,predictions)\n",
    "plot_confusion_matrix(classification, X_test, y_test)\n",
    "plt.show()"
   ]
  },
  {
   "cell_type": "markdown",
   "id": "portable-produce",
   "metadata": {},
   "source": [
    "#### conclusion on imbalance:\n",
    "\n",
    "- The SMOTE technique solved the imbalanced but the accuracy got too low (71%), but the TOMEK doesn't.\n",
    "    "
   ]
  },
  {
   "cell_type": "markdown",
   "id": "cutting-registration",
   "metadata": {},
   "source": [
    "### References\n",
    "- lectures\n",
    "- women who code: munibootcamp of data science\n",
    "- https://machinelearningmastery.com/confusion-matrix-machine-learning/\n",
    "- https://medium.com/analytics-vidhya/outlier-treatment-9bbe87384d02\n",
    "    "
   ]
  }
 ],
 "metadata": {
  "kernelspec": {
   "display_name": "Python 3",
   "language": "python",
   "name": "python3"
  },
  "language_info": {
   "codemirror_mode": {
    "name": "ipython",
    "version": 3
   },
   "file_extension": ".py",
   "mimetype": "text/x-python",
   "name": "python",
   "nbconvert_exporter": "python",
   "pygments_lexer": "ipython3",
   "version": "3.8.8"
  },
  "toc": {
   "base_numbering": 1,
   "nav_menu": {},
   "number_sections": true,
   "sideBar": false,
   "skip_h1_title": false,
   "title_cell": "Table of Contents",
   "title_sidebar": "Contents",
   "toc_cell": false,
   "toc_position": {
    "height": "789px",
    "left": "108px",
    "top": "110px",
    "width": "207.594px"
   },
   "toc_section_display": true,
   "toc_window_display": true
  }
 },
 "nbformat": 4,
 "nbformat_minor": 5
}
